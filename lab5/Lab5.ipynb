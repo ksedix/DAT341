{
 "cells": [
  {
   "cell_type": "markdown",
   "id": "spectacular-magic",
   "metadata": {},
   "source": [
    "# Assignment 5 DAT341 - spotting cars using convolutional neural networks"
   ]
  },
  {
   "cell_type": "markdown",
   "id": "indoor-snapshot",
   "metadata": {},
   "source": [
    "### https://www.cse.chalmers.se/~richajo/dit866/assignments/a5/assignment5.html#Programming-assignment-3:-spotting-cars-using-convolutional-neural-networks"
   ]
  },
  {
   "cell_type": "markdown",
   "id": "fixed-guatemala",
   "metadata": {},
   "source": [
    "### Group Members: Mirco Ghadri, Tobias Filmberg, Sameer Jathavedan"
   ]
  },
  {
   "cell_type": "markdown",
   "id": "handed-puppy",
   "metadata": {},
   "source": [
    "## Data Preprocessing"
   ]
  },
  {
   "cell_type": "code",
   "execution_count": 1,
   "id": "hourly-complement",
   "metadata": {},
   "outputs": [],
   "source": [
    "from tensorflow.keras.preprocessing.image import ImageDataGenerator\n",
    "from matplotlib import pyplot as plt"
   ]
  },
  {
   "cell_type": "code",
   "execution_count": 2,
   "id": "durable-chuck",
   "metadata": {},
   "outputs": [],
   "source": [
    "data_gen = ImageDataGenerator(rescale=1.0/255)\n",
    "imgdir = 'a5_images' # or wherever you put them...\n",
    "img_size = 64\n",
    "batch_size = 32"
   ]
  },
  {
   "cell_type": "markdown",
   "id": "earned-belgium",
   "metadata": {},
   "source": [
    "### Generator for Training Images"
   ]
  },
  {
   "cell_type": "code",
   "execution_count": 3,
   "id": "double-biography",
   "metadata": {},
   "outputs": [
    {
     "name": "stdout",
     "output_type": "stream",
     "text": [
      "Found 1600 images belonging to 2 classes.\n"
     ]
    }
   ],
   "source": [
    "train_generator = data_gen.flow_from_directory(\n",
    "        imgdir + '/train',\n",
    "        target_size=(img_size, img_size),\n",
    "        batch_size=batch_size,\n",
    "        class_mode='binary',\n",
    "        classes=['other', 'car'],\n",
    "        seed=12345,\n",
    "        shuffle=True)"
   ]
  },
  {
   "cell_type": "markdown",
   "id": "breathing-cursor",
   "metadata": {},
   "source": [
    "### Generator for Validation(Test) Images"
   ]
  },
  {
   "cell_type": "code",
   "execution_count": 4,
   "id": "cloudy-roberts",
   "metadata": {},
   "outputs": [
    {
     "name": "stdout",
     "output_type": "stream",
     "text": [
      "Found 576 images belonging to 2 classes.\n"
     ]
    }
   ],
   "source": [
    "test_generator = data_gen.flow_from_directory(\n",
    "        imgdir + '/validation',\n",
    "        target_size=(img_size, img_size),\n",
    "        batch_size=batch_size,\n",
    "        class_mode='binary',\n",
    "        classes=['other', 'car'],\n",
    "        seed=12345,\n",
    "        shuffle=True)"
   ]
  },
  {
   "cell_type": "markdown",
   "id": "computational-belief",
   "metadata": {},
   "source": [
    "### Testing the train generator to see if it works"
   ]
  },
  {
   "cell_type": "code",
   "execution_count": 5,
   "id": "heated-beaver",
   "metadata": {},
   "outputs": [],
   "source": [
    "Xbatch, Ybatch = train_generator.next()"
   ]
  },
  {
   "cell_type": "code",
   "execution_count": 6,
   "id": "saving-connecticut",
   "metadata": {},
   "outputs": [
    {
     "data": {
      "text/plain": [
       "(32, 64, 64, 3)"
      ]
     },
     "execution_count": 6,
     "metadata": {},
     "output_type": "execute_result"
    }
   ],
   "source": [
    "Xbatch.shape"
   ]
  },
  {
   "cell_type": "markdown",
   "id": "involved-delhi",
   "metadata": {},
   "source": [
    "The dimensions are:\n",
    "\n",
    "**32**, because there are 32 images in the batch  \n",
    "**64**, for the height of each image  \n",
    "**64**, for the width of each image  \n",
    "**3**, because for each pixel we store the red, green, and blue value (a value between 0 and 1)  "
   ]
  },
  {
   "cell_type": "code",
   "execution_count": 7,
   "id": "rental-powell",
   "metadata": {},
   "outputs": [
    {
     "data": {
      "text/plain": [
       "1.0"
      ]
     },
     "execution_count": 7,
     "metadata": {},
     "output_type": "execute_result"
    }
   ],
   "source": [
    "Ybatch[0]"
   ]
  },
  {
   "cell_type": "code",
   "execution_count": 8,
   "id": "sorted-infection",
   "metadata": {},
   "outputs": [
    {
     "data": {
      "text/plain": [
       "[]"
      ]
     },
     "execution_count": 8,
     "metadata": {},
     "output_type": "execute_result"
    },
    {
     "data": {
      "image/png": "[encoded data removed]",
      "text/plain": [
       "<Figure size 432x288 with 1 Axes>"
      ]
     },
     "metadata": {
      "needs_background": "light"
     },
     "output_type": "display_data"
    }
   ],
   "source": [
    "plt.imshow(Xbatch[0])\n",
    "plt.plot()"
   ]
  },
  {
   "cell_type": "markdown",
   "id": "creative-agency",
   "metadata": {},
   "source": [
    "## Part 1: Building and Training a convolutional neural network"
   ]
  },
  {
   "cell_type": "markdown",
   "id": "restricted-humanitarian",
   "metadata": {},
   "source": [
    "Write a function **make_convnet()** that builds a convolutional neural network."
   ]
  },
  {
   "cell_type": "code",
   "execution_count": 9,
   "id": "legislative-anime",
   "metadata": {},
   "outputs": [],
   "source": [
    "from tensorflow.keras.models import Sequential\n",
    "from tensorflow.keras.layers import Conv2D, MaxPooling2D, Flatten, Dense\n",
    "from tensorflow.keras.optimizers import Adam"
   ]
  },
  {
   "cell_type": "code",
   "execution_count": 10,
   "id": "bridal-dayton",
   "metadata": {},
   "outputs": [],
   "source": [
    "img_size = 64\n",
    "\n",
    "def make_convnet():\n",
    "    model = Sequential([\n",
    "    #the first convolutional layer has 32 filters, each filter/kernel has the width*height dimension 3*3\n",
    "    Conv2D(32, (3, 3), activation='relu', input_shape=(img_size, img_size, 3)),\n",
    "    MaxPooling2D((2, 2)),\n",
    "    Conv2D(64, (3, 3), activation='relu'),\n",
    "    MaxPooling2D((2, 2)),\n",
    "    Conv2D(128, (3, 3), activation='relu'),\n",
    "    MaxPooling2D((2, 2)),\n",
    "    Flatten(),\n",
    "    Dense(64, activation='relu'),\n",
    "    Dense(1, activation='sigmoid')\n",
    "    ])\n",
    "    model.compile(optimizer=Adam(learning_rate=0.001), loss='binary_crossentropy', metrics=['accuracy'])\n",
    "    return model\n"
   ]
  },
  {
   "cell_type": "markdown",
   "id": "rental-transition",
   "metadata": {},
   "source": [
    "### The neural network is made up of convolutional layers as well as pooling layers and lastly dense layers."
   ]
  },
  {
   "cell_type": "markdown",
   "id": "realistic-reply",
   "metadata": {},
   "source": [
    "**Convolutional layer:** The first convolutional layers takes 4 parameters. The first parameter is the number of filters, the second parameter is the kernel size, which is the width * height dimension of each filter. In our case, the filter dimension is 3 by 3 pixels. The third parameter is the activation function used. We use Relu, which stands for Rectified Linear unit. The ReLU function works my mapping any negative value to 0(including 0) and any positive value to itself. The last parameter is the input shape of the image. Only the first layer in our neural network needs an input shape. This is because the input shape of all other layers are derived from the output shape of the preceeding layer. In our case, the input shape of the first convolutional layer is the image width * image height * 3. This is because each image is represented as a 3 dimensional numpy tensor where there are 64 units for the width of the image, 64 units for the height of the image, and also 3 channels, one for each of the colors Red, Green, and Blue. This is because we are dealing with colored images. A black and white image would only require 1 input channel.\n",
    "\n",
    "**Filters:** The filters work by scanning the image from left to right, from top to bottom. In each scan, the dot product of the filter matrix and the image patch is taken and added to the resulting output layer/feature map. The feature map can then be used to highlight features such as edges and lines in the image. Initially, the feature matrix is randomly initialized so it does not detect any particular shape or edge. However, as the weights are adjusted through backpropagation, the values in the feature matrix are adapted to detect certain features in the image.\n",
    "\n",
    "**Pooling layer:** The max pooling layer works on the feature maps that were outputted from the preceeding convolutional layers. It works by identifying the most important pixels in the feature map by using a Max Pooling operation. The max pooling operation uses a 2 * 2 grid that scans the feature map from left to right, top to bottom similar to how the filters in the convolutional layer scan the image. However, instead of taking any dot product, it simply selects the maximum value in the 2 * 2 image patch that it scans and adds it to the output layer. This reduces the dimensions of the output layer and thus reduces the total number of weights that need to be trained in the cnn. Another advantage is that the max pooling operation makes the cnn more robust and immune to translational variance in the image. This is because it selects the maximum value in the 2 * 2 image patch that it scans. This makes the model less sensitive to individual pixels in the image and thus more translationally invariant.\n",
    "\n",
    "**Flatten**: Since the output from the last Max Pooling layer is a 3 dimensional tensor of shape (6 * 6 * 128), the flatten layer will flatten this output into a 1 dimensional array. This is because the dense layer can only take a 1 dimensional input array.\n",
    "\n",
    "**Dense Layer:** The dense layers are fully connected layers. Each neuron in a dense layer is connected to all neurons in the preceding layer.\n",
    "\n",
    "**Optimizer(Adam):** Adam stands for Adaptive Moment Estimation and is a Stochastic Gradient Descent(SGD) algorithm used to update and optimize the weights in a neural network.\n",
    "\n",
    "**loss='binary_crossentropy':** Binary crossentropy loss measures how off the prediction was from the real value. It is useful for binary classification tasks. The more off the prediction was from the real value(y), the higher the loss will be. The objective function of the CNN is to minimize the total loss."
   ]
  },
  {
   "cell_type": "code",
   "execution_count": 11,
   "id": "prescribed-compilation",
   "metadata": {},
   "outputs": [
    {
     "name": "stdout",
     "output_type": "stream",
     "text": [
      "Model: \"sequential\"\n",
      "_________________________________________________________________\n",
      " Layer (type)                Output Shape              Param #   \n",
      "=================================================================\n",
      " conv2d (Conv2D)             (None, 62, 62, 32)        896       \n",
      "                                                                 \n",
      " max_pooling2d (MaxPooling2D  (None, 31, 31, 32)       0         \n",
      " )                                                               \n",
      "                                                                 \n",
      " conv2d_1 (Conv2D)           (None, 29, 29, 64)        18496     \n",
      "                                                                 \n",
      " max_pooling2d_1 (MaxPooling  (None, 14, 14, 64)       0         \n",
      " 2D)                                                             \n",
      "                                                                 \n",
      " conv2d_2 (Conv2D)           (None, 12, 12, 128)       73856     \n",
      "                                                                 \n",
      " max_pooling2d_2 (MaxPooling  (None, 6, 6, 128)        0         \n",
      " 2D)                                                             \n",
      "                                                                 \n",
      " flatten (Flatten)           (None, 4608)              0         \n",
      "                                                                 \n",
      " dense (Dense)               (None, 64)                294976    \n",
      "                                                                 \n",
      " dense_1 (Dense)             (None, 1)                 65        \n",
      "                                                                 \n",
      "=================================================================\n",
      "Total params: 388,289\n",
      "Trainable params: 388,289\n",
      "Non-trainable params: 0\n",
      "_________________________________________________________________\n"
     ]
    }
   ],
   "source": [
    "model = make_convnet()\n",
    "model.summary()"
   ]
  },
  {
   "cell_type": "markdown",
   "id": "experienced-masters",
   "metadata": {},
   "source": [
    "### Training the model"
   ]
  },
  {
   "cell_type": "code",
   "execution_count": 134,
   "id": "smoking-crawford",
   "metadata": {},
   "outputs": [
    {
     "name": "stdout",
     "output_type": "stream",
     "text": [
      "Epoch 1/10\n",
      "50/50 [==============================] - 5s 81ms/step - loss: 0.6847 - accuracy: 0.5562 - val_loss: 0.6724 - val_accuracy: 0.6788\n",
      "Epoch 2/10\n",
      "50/50 [==============================] - 4s 80ms/step - loss: 0.5777 - accuracy: 0.7106 - val_loss: 0.6262 - val_accuracy: 0.7066\n",
      "Epoch 3/10\n",
      "50/50 [==============================] - 4s 79ms/step - loss: 0.4867 - accuracy: 0.7675 - val_loss: 0.6322 - val_accuracy: 0.6997\n",
      "Epoch 4/10\n",
      "50/50 [==============================] - 4s 83ms/step - loss: 0.4275 - accuracy: 0.8075 - val_loss: 0.5125 - val_accuracy: 0.7691\n",
      "Epoch 5/10\n",
      "50/50 [==============================] - 5s 103ms/step - loss: 0.4097 - accuracy: 0.8069 - val_loss: 0.4781 - val_accuracy: 0.7812\n",
      "Epoch 6/10\n",
      "50/50 [==============================] - 6s 114ms/step - loss: 0.3529 - accuracy: 0.8462 - val_loss: 0.4775 - val_accuracy: 0.7795\n",
      "Epoch 7/10\n",
      "50/50 [==============================] - 7s 136ms/step - loss: 0.3178 - accuracy: 0.8656 - val_loss: 0.5205 - val_accuracy: 0.7674\n",
      "Epoch 8/10\n",
      "50/50 [==============================] - 4s 82ms/step - loss: 0.2624 - accuracy: 0.8906 - val_loss: 0.5216 - val_accuracy: 0.7847\n",
      "Epoch 9/10\n",
      "50/50 [==============================] - 4s 84ms/step - loss: 0.2054 - accuracy: 0.9219 - val_loss: 0.5475 - val_accuracy: 0.7865\n",
      "Epoch 10/10\n",
      "50/50 [==============================] - 4s 84ms/step - loss: 0.1430 - accuracy: 0.9444 - val_loss: 0.9633 - val_accuracy: 0.7205\n"
     ]
    }
   ],
   "source": [
    "history = model.fit( \n",
    "        train_generator,\n",
    "        epochs=10,\n",
    "        validation_data = test_generator\n",
    "        )\n"
   ]
  },
  {
   "cell_type": "code",
   "execution_count": 12,
   "id": "wooden-falls",
   "metadata": {},
   "outputs": [
    {
     "data": {
      "text/plain": [
       "<tensorflow.python.checkpoint.checkpoint.CheckpointLoadStatus at 0x2eef6b47640>"
      ]
     },
     "execution_count": 12,
     "metadata": {},
     "output_type": "execute_result"
    }
   ],
   "source": [
    "#model.save_weights(\"weights\")\n",
    "#model.load_weights(\"weights\")"
   ]
  },
  {
   "cell_type": "code",
   "execution_count": 13,
   "id": "responsible-final",
   "metadata": {},
   "outputs": [
    {
     "name": "stdout",
     "output_type": "stream",
     "text": [
      "18/18 [==============================] - 6s 297ms/step - loss: 0.5422 - accuracy: 0.7292\n"
     ]
    },
    {
     "data": {
      "text/plain": [
       "[0.5422251224517822, 0.7291666865348816]"
      ]
     },
     "execution_count": 13,
     "metadata": {},
     "output_type": "execute_result"
    }
   ],
   "source": [
    "model.evaluate(test_generator)"
   ]
  },
  {
   "cell_type": "markdown",
   "id": "desperate-career",
   "metadata": {},
   "source": [
    "### Training vs Testing accuracy over 10 epochs"
   ]
  },
  {
   "cell_type": "code",
   "execution_count": 144,
   "id": "continued-english",
   "metadata": {},
   "outputs": [],
   "source": [
    "def make_plot(h):\n",
    "    n_epochs = list(range(1,11))\n",
    "    training_accuracy = h.history[\"accuracy\"]\n",
    "    test_accuracy = h.history[\"val_accuracy\"]\n",
    "    plt.figure(figsize=(8,5))\n",
    "    plt.plot(n_epochs, training_accuracy, label=\"Training accuracy\")\n",
    "    plt.plot(n_epochs, test_accuracy, label=\"Testing accuracy\")\n",
    "    plt.title(\"Training vs Validation Accuracy\")\n",
    "    plt.xlabel(\"Epoch\")\n",
    "    plt.ylabel(\"Accuracy\")\n",
    "    plt.legend()\n",
    "    plt.show()"
   ]
  },
  {
   "cell_type": "code",
   "execution_count": 145,
   "id": "reported-trace",
   "metadata": {},
   "outputs": [
    {
     "data": {
      "image/png": "[encoded data removed]",
      "text/plain": [
       "<Figure size 576x360 with 1 Axes>"
      ]
     },
     "metadata": {
      "needs_background": "light"
     },
     "output_type": "display_data"
    }
   ],
   "source": [
    "make_plot(history)"
   ]
  },
  {
   "cell_type": "markdown",
   "id": "suitable-polymer",
   "metadata": {},
   "source": [
    "### Augmented Training Data Generator"
   ]
  },
  {
   "cell_type": "markdown",
   "id": "latin-sierra",
   "metadata": {},
   "source": [
    "We used 3 additional parameters for augmenting the images in the ImageDataGenerator. These were horizontal_flip which mirrors the image horizontally, rotation_range which rotates the image randomly by up to 5 degrees and channel_shift_range which shifts the pixel values in each of the color channels randomly by up to 5 units. The reason we used such small values for rotation range and channel_shift_range was because we tried larger values at first(20), however the result was not good. The training accuracy became very low(underfitting) and the validation accuracy also dropped a lot. The reason can be that the images became too distorted so they became meaningless to the model and no longer looked like a car. Therefore, we had to find a fine balance and the value 5 was good, since the training accuracy did not drop that much and the validation accuracy increased."
   ]
  },
  {
   "cell_type": "code",
   "execution_count": 146,
   "id": "deadly-burden",
   "metadata": {},
   "outputs": [
    {
     "name": "stdout",
     "output_type": "stream",
     "text": [
      "Found 1600 images belonging to 2 classes.\n"
     ]
    }
   ],
   "source": [
    "data_gen_augmented = ImageDataGenerator(rescale=1.0/255, horizontal_flip=True, rotation_range=5, channel_shift_range=5)\n",
    "                                       \n",
    "train_generator_augmented = data_gen_augmented.flow_from_directory(\n",
    "        imgdir + '/train',\n",
    "        target_size=(img_size, img_size),\n",
    "        batch_size=batch_size,\n",
    "        class_mode='binary',\n",
    "        classes=['other', 'car'],\n",
    "        seed=12345,\n",
    "        shuffle=True)"
   ]
  },
  {
   "cell_type": "code",
   "execution_count": 147,
   "id": "married-picture",
   "metadata": {},
   "outputs": [],
   "source": [
    "Xbatch_augmented, Ybatch_augmented = train_generator_augmented.next()"
   ]
  },
  {
   "cell_type": "code",
   "execution_count": 148,
   "id": "spoken-organization",
   "metadata": {},
   "outputs": [
    {
     "data": {
      "text/plain": [
       "<matplotlib.image.AxesImage at 0x27b0852ad60>"
      ]
     },
     "execution_count": 148,
     "metadata": {},
     "output_type": "execute_result"
    },
    {
     "data": {
      "image/png": "[encoded data removed]",
      "text/plain": [
       "<Figure size 432x288 with 1 Axes>"
      ]
     },
     "metadata": {
      "needs_background": "light"
     },
     "output_type": "display_data"
    }
   ],
   "source": [
    "plt.imshow(Xbatch_augmented[0])"
   ]
  },
  {
   "cell_type": "code",
   "execution_count": 149,
   "id": "quarterly-trinity",
   "metadata": {
    "scrolled": true
   },
   "outputs": [
    {
     "name": "stdout",
     "output_type": "stream",
     "text": [
      "Model: \"sequential_18\"\n",
      "_________________________________________________________________\n",
      " Layer (type)                Output Shape              Param #   \n",
      "=================================================================\n",
      " conv2d_54 (Conv2D)          (None, 62, 62, 32)        896       \n",
      "                                                                 \n",
      " max_pooling2d_54 (MaxPoolin  (None, 31, 31, 32)       0         \n",
      " g2D)                                                            \n",
      "                                                                 \n",
      " conv2d_55 (Conv2D)          (None, 29, 29, 64)        18496     \n",
      "                                                                 \n",
      " max_pooling2d_55 (MaxPoolin  (None, 14, 14, 64)       0         \n",
      " g2D)                                                            \n",
      "                                                                 \n",
      " conv2d_56 (Conv2D)          (None, 12, 12, 128)       73856     \n",
      "                                                                 \n",
      " max_pooling2d_56 (MaxPoolin  (None, 6, 6, 128)        0         \n",
      " g2D)                                                            \n",
      "                                                                 \n",
      " flatten_18 (Flatten)        (None, 4608)              0         \n",
      "                                                                 \n",
      " dense_36 (Dense)            (None, 64)                294976    \n",
      "                                                                 \n",
      " dense_37 (Dense)            (None, 1)                 65        \n",
      "                                                                 \n",
      "=================================================================\n",
      "Total params: 388,289\n",
      "Trainable params: 388,289\n",
      "Non-trainable params: 0\n",
      "_________________________________________________________________\n"
     ]
    }
   ],
   "source": [
    "model = make_convnet()\n",
    "model.summary()"
   ]
  },
  {
   "cell_type": "code",
   "execution_count": 150,
   "id": "appropriate-implement",
   "metadata": {
    "scrolled": false
   },
   "outputs": [
    {
     "name": "stdout",
     "output_type": "stream",
     "text": [
      "Epoch 1/10\n",
      "50/50 [==============================] - 7s 119ms/step - loss: 0.6826 - accuracy: 0.5706 - val_loss: 0.6765 - val_accuracy: 0.5729\n",
      "Epoch 2/10\n",
      "50/50 [==============================] - 6s 115ms/step - loss: 0.5877 - accuracy: 0.6819 - val_loss: 0.5632 - val_accuracy: 0.7153\n",
      "Epoch 3/10\n",
      "50/50 [==============================] - 6s 114ms/step - loss: 0.5137 - accuracy: 0.7631 - val_loss: 0.5402 - val_accuracy: 0.7170\n",
      "Epoch 4/10\n",
      "50/50 [==============================] - 6s 115ms/step - loss: 0.5117 - accuracy: 0.7563 - val_loss: 0.5288 - val_accuracy: 0.7569\n",
      "Epoch 5/10\n",
      "50/50 [==============================] - 6s 116ms/step - loss: 0.4631 - accuracy: 0.7844 - val_loss: 0.5125 - val_accuracy: 0.7604\n",
      "Epoch 6/10\n",
      "50/50 [==============================] - 6s 116ms/step - loss: 0.4357 - accuracy: 0.7975 - val_loss: 0.5307 - val_accuracy: 0.7639\n",
      "Epoch 7/10\n",
      "50/50 [==============================] - 6s 116ms/step - loss: 0.4096 - accuracy: 0.8119 - val_loss: 0.4706 - val_accuracy: 0.7795\n",
      "Epoch 8/10\n",
      "50/50 [==============================] - 6s 118ms/step - loss: 0.3946 - accuracy: 0.8225 - val_loss: 0.4588 - val_accuracy: 0.7934\n",
      "Epoch 9/10\n",
      "50/50 [==============================] - 6s 120ms/step - loss: 0.3616 - accuracy: 0.8462 - val_loss: 0.4767 - val_accuracy: 0.7812\n",
      "Epoch 10/10\n",
      "50/50 [==============================] - 6s 118ms/step - loss: 0.3613 - accuracy: 0.8494 - val_loss: 0.4882 - val_accuracy: 0.7899\n"
     ]
    }
   ],
   "source": [
    "history_augmented = model.fit( \n",
    "        train_generator_augmented,\n",
    "        epochs=10,\n",
    "        validation_data = test_generator\n",
    "        )"
   ]
  },
  {
   "cell_type": "code",
   "execution_count": 151,
   "id": "cheap-reliance",
   "metadata": {},
   "outputs": [
    {
     "name": "stdout",
     "output_type": "stream",
     "text": [
      "18/18 [==============================] - 1s 33ms/step - loss: 0.4882 - accuracy: 0.7899\n"
     ]
    },
    {
     "data": {
      "text/plain": [
       "[0.48824775218963623, 0.7899305820465088]"
      ]
     },
     "execution_count": 151,
     "metadata": {},
     "output_type": "execute_result"
    }
   ],
   "source": [
    "model.evaluate(test_generator)"
   ]
  },
  {
   "cell_type": "code",
   "execution_count": 152,
   "id": "respiratory-figure",
   "metadata": {},
   "outputs": [
    {
     "data": {
      "image/png": "[encoded data removed]",
      "text/plain": [
       "<Figure size 576x360 with 1 Axes>"
      ]
     },
     "metadata": {
      "needs_background": "light"
     },
     "output_type": "display_data"
    }
   ],
   "source": [
    "make_plot(history_augmented)"
   ]
  },
  {
   "cell_type": "markdown",
   "id": "vietnamese-patrol",
   "metadata": {},
   "source": [
    "### Q: Do you see any difference between the training and validation accuracy when training the model with the augmented training dataset?"
   ]
  },
  {
   "cell_type": "markdown",
   "id": "loose-start",
   "metadata": {},
   "source": [
    "There is a slight difference on the training and validation accuracy when using data augmentation on the training set and then training the model with the augmented training set. The total difference between the training and testing accuracy throughout the 10 epochs becomes generally smaller. However, when training the CNN with the regular image data generator, it reached a much higher final training accuracy(95%). When training the CNN with the augmented image data generator it reached a lower final training accuracy of 85%. Also, the final validation accuracy of training the model with an augmented image data generator was higher(79%) then the final validation accuracy of training the CNN model with a regular image data generator (72%). This makes sense since the augmented training data introduces more variation into the training data and combats overfitting."
   ]
  },
  {
   "cell_type": "markdown",
   "id": "failing-professor",
   "metadata": {},
   "source": [
    "## VGG-16"
   ]
  },
  {
   "cell_type": "code",
   "execution_count": 36,
   "id": "practical-opera",
   "metadata": {},
   "outputs": [],
   "source": [
    "from tensorflow.keras import applications\n",
    "from tensorflow.keras.preprocessing.image import load_img, img_to_array\n",
    "from tensorflow.keras.applications.vgg16 import decode_predictions, preprocess_input"
   ]
  },
  {
   "cell_type": "code",
   "execution_count": 37,
   "id": "sorted-dividend",
   "metadata": {},
   "outputs": [],
   "source": [
    "vggmodel = applications.VGG16(weights='imagenet', include_top=True)"
   ]
  },
  {
   "cell_type": "code",
   "execution_count": 38,
   "id": "casual-calculator",
   "metadata": {},
   "outputs": [
    {
     "data": {
      "text/plain": [
       "<matplotlib.image.AxesImage at 0x21fca562790>"
      ]
     },
     "execution_count": 38,
     "metadata": {},
     "output_type": "execute_result"
    },
    {
     "data": {
      "image/png": "[encoded data removed]",
      "text/plain": [
       "<Figure size 432x288 with 1 Axes>"
      ]
     },
     "metadata": {
      "needs_background": "light"
     },
     "output_type": "display_data"
    }
   ],
   "source": [
    "plt.imshow(Xbatch[0])"
   ]
  },
  {
   "cell_type": "code",
   "execution_count": 39,
   "id": "competent-plaintiff",
   "metadata": {},
   "outputs": [],
   "source": [
    "#loading the image\n",
    "image = load_img(\"a5_images/train/car/0001.jpg\", target_size=(224,224))\n",
    "#loading the image\n",
    "#image = load_img(\"a5_images/train/car/0003.jpg\", target_size=(224,224))"
   ]
  },
  {
   "cell_type": "code",
   "execution_count": 40,
   "id": "organic-bennett",
   "metadata": {},
   "outputs": [],
   "source": [
    "#converting the image to a numpy arary\n",
    "image_array = img_to_array(image)"
   ]
  },
  {
   "cell_type": "code",
   "execution_count": 41,
   "id": "smaller-state",
   "metadata": {},
   "outputs": [],
   "source": [
    "#preprocess the array and return a new processed array\n",
    "image_array = preprocess_input(image_array)"
   ]
  },
  {
   "cell_type": "code",
   "execution_count": 42,
   "id": "instant-cabin",
   "metadata": {},
   "outputs": [],
   "source": [
    "#reshape the image array into a 4-dimensional numpy array\n",
    "image_array = image_array.reshape(1,224,224,3)"
   ]
  },
  {
   "cell_type": "code",
   "execution_count": 43,
   "id": "unlimited-aruba",
   "metadata": {},
   "outputs": [
    {
     "name": "stdout",
     "output_type": "stream",
     "text": [
      "1/1 [==============================] - 0s 265ms/step\n"
     ]
    }
   ],
   "source": [
    "prediction = vggmodel.predict(image_array)"
   ]
  },
  {
   "cell_type": "code",
   "execution_count": 44,
   "id": "numerous-seeker",
   "metadata": {},
   "outputs": [
    {
     "data": {
      "text/plain": [
       "[[('n03095699', 'container_ship', 0.121823765),\n",
       "  ('n04149813', 'scoreboard', 0.076020464),\n",
       "  ('n03196217', 'digital_clock', 0.054478724),\n",
       "  ('n03733281', 'maze', 0.031015785),\n",
       "  ('n06874185', 'traffic_light', 0.028449677)]]"
      ]
     },
     "execution_count": 44,
     "metadata": {},
     "output_type": "execute_result"
    }
   ],
   "source": [
    "decode_predictions(prediction)"
   ]
  },
  {
   "cell_type": "markdown",
   "id": "pressing-doubt",
   "metadata": {},
   "source": [
    "### Q: Does the prediction make sense?"
   ]
  },
  {
   "cell_type": "markdown",
   "id": "baking-harvey",
   "metadata": {},
   "source": [
    "The prediction does not make sense, since the image we are predicting is a car. None of the prediction labels mention car. However, the prediction label with highest probability is container ship. This prediction is more similar to a car than the other predictions(scoreboard, digital_clock, maze and traffic light). One of the reasons the prediction is so off, even though VGG16 is a very advanced and accurate model, can be because the input image is originally 26 * 56 pixels dimensions. The image has to be heavily resized(scaled up) in order to get the dimension 224 * 224 which the VGG16 CNN can work with. During this resizing process, the image may become so distorted that it no longer looks like a car. We tested this hypothesis by providing the model with another image of a car, but which had higher dimensions and more similar to the 224 * 224 dimensions that VGG-16 model uses. Image 0003.jpg in train/car had the dimensions 500 * 264. When we fed this image to the VGG16-model, all of the output classifications were more or less related to a car: \"minivan\", \"beach_wagon\", \"pickup\",\"golfcart\",\"car_wheel\"."
   ]
  },
  {
   "cell_type": "markdown",
   "id": "limiting-bulgaria",
   "metadata": {},
   "source": [
    "## Part 3: Using VGG-16 as a feature extractor\n"
   ]
  },
  {
   "cell_type": "code",
   "execution_count": 45,
   "id": "latin-saskatchewan",
   "metadata": {},
   "outputs": [],
   "source": [
    "feature_extractor = applications.VGG16(include_top=False, weights='imagenet',\n",
    "                                       input_shape=(img_size, img_size, 3))"
   ]
  },
  {
   "cell_type": "code",
   "execution_count": 46,
   "id": "precious-adobe",
   "metadata": {},
   "outputs": [],
   "source": [
    "vgg_data_gen = ImageDataGenerator(preprocessing_function=preprocess_input)"
   ]
  },
  {
   "cell_type": "code",
   "execution_count": 47,
   "id": "running-airport",
   "metadata": {},
   "outputs": [],
   "source": [
    "import numpy as np"
   ]
  },
  {
   "cell_type": "code",
   "execution_count": 48,
   "id": "institutional-swimming",
   "metadata": {},
   "outputs": [],
   "source": [
    "def create_vgg16_features(directory, filename):\n",
    "    #generator that creates batches of images from the training folder or validation folder\n",
    "    generator = vgg_data_gen.flow_from_directory(\n",
    "        imgdir + directory,\n",
    "        target_size=(img_size, img_size),\n",
    "        batch_size=batch_size,\n",
    "        class_mode='binary',\n",
    "        classes=['other', 'car'],\n",
    "        seed=12345,\n",
    "        shuffle=False)\n",
    "    #uses the VGG16 model to extract features\n",
    "    features = feature_extractor.predict(generator)\n",
    "    #save the features into a numpy array\n",
    "    with open(filename, 'wb') as f:\n",
    "      np.save(f, features) \n",
    "    #return features"
   ]
  },
  {
   "cell_type": "markdown",
   "id": "shared-bouquet",
   "metadata": {},
   "source": [
    "### Creates the feature vector for the training images"
   ]
  },
  {
   "cell_type": "code",
   "execution_count": 49,
   "id": "secret-victor",
   "metadata": {},
   "outputs": [
    {
     "name": "stdout",
     "output_type": "stream",
     "text": [
      "Found 1600 images belonging to 2 classes.\n",
      "50/50 [==============================] - 17s 333ms/step\n"
     ]
    }
   ],
   "source": [
    "create_vgg16_features(\"/train\", \"train_features\")"
   ]
  },
  {
   "cell_type": "markdown",
   "id": "sudden-citation",
   "metadata": {},
   "source": [
    "### Creates the feature vector for the validation images"
   ]
  },
  {
   "cell_type": "code",
   "execution_count": 50,
   "id": "permanent-latin",
   "metadata": {},
   "outputs": [
    {
     "name": "stdout",
     "output_type": "stream",
     "text": [
      "Found 576 images belonging to 2 classes.\n",
      "18/18 [==============================] - 6s 343ms/step\n"
     ]
    }
   ],
   "source": [
    "create_vgg16_features(\"/validation\",\"test_features\")"
   ]
  },
  {
   "cell_type": "code",
   "execution_count": 55,
   "id": "threaded-board",
   "metadata": {},
   "outputs": [],
   "source": [
    "def get_labels(n):\n",
    "    return np.array([0]*(n//2) + [1]*(n//2))\n",
    "\n",
    "def train_on_cnnfeatures():\n",
    "    with open(\"train_features\", 'rb') as f:\n",
    "        train_features = np.load(f)\n",
    "    with open(\"test_features\",\"rb\") as f:\n",
    "        test_features = np.load(f)\n",
    "    model = Sequential([\n",
    "    Flatten(input_shape = train_features.shape[1:]),\n",
    "    Dense(64, activation='relu'),\n",
    "    Dense(1, activation='sigmoid')\n",
    "    ])\n",
    "    model.compile(optimizer=Adam(learning_rate=0.001), loss='binary_crossentropy', metrics=['accuracy'])\n",
    "    model.fit(train_features,get_labels(1600), epochs=10)\n",
    "    model.evaluate(test_features, get_labels(576))"
   ]
  },
  {
   "cell_type": "code",
   "execution_count": 56,
   "id": "periodic-desktop",
   "metadata": {},
   "outputs": [
    {
     "name": "stdout",
     "output_type": "stream",
     "text": [
      "Epoch 1/10\n",
      "50/50 [==============================] - 0s 2ms/step - loss: 1.2640 - accuracy: 0.8425\n",
      "Epoch 2/10\n",
      "50/50 [==============================] - 0s 2ms/step - loss: 0.1117 - accuracy: 0.9569\n",
      "Epoch 3/10\n",
      "50/50 [==============================] - 0s 2ms/step - loss: 0.0262 - accuracy: 0.9912\n",
      "Epoch 4/10\n",
      "50/50 [==============================] - 0s 2ms/step - loss: 0.0107 - accuracy: 0.9981\n",
      "Epoch 5/10\n",
      "50/50 [==============================] - 0s 2ms/step - loss: 0.0060 - accuracy: 0.9994\n",
      "Epoch 6/10\n",
      "50/50 [==============================] - 0s 2ms/step - loss: 0.0037 - accuracy: 1.0000\n",
      "Epoch 7/10\n",
      "50/50 [==============================] - 0s 2ms/step - loss: 0.0024 - accuracy: 1.0000\n",
      "Epoch 8/10\n",
      "50/50 [==============================] - 0s 2ms/step - loss: 0.0017 - accuracy: 1.0000\n",
      "Epoch 9/10\n",
      "50/50 [==============================] - 0s 2ms/step - loss: 0.0013 - accuracy: 1.0000\n",
      "Epoch 10/10\n",
      "50/50 [==============================] - 0s 2ms/step - loss: 0.0011 - accuracy: 1.0000\n",
      "18/18 [==============================] - 0s 1ms/step - loss: 0.6271 - accuracy: 0.8941\n"
     ]
    }
   ],
   "source": [
    "train_on_cnnfeatures()"
   ]
  },
  {
   "cell_type": "markdown",
   "id": "arranged-toner",
   "metadata": {},
   "source": [
    "### Q: What is your accuracy this time? If the accuracy is different from when you trained your previous CNN, what do you think is the reason for the difference?"
   ]
  },
  {
   "cell_type": "markdown",
   "id": "artificial-affiliation",
   "metadata": {},
   "source": [
    "The accuracy when integrating the VGG-16 model into our neural network is now 100% for the training set and 90% for the validation set. The accuracy is much higher when integrating the VGG-16 model into our neural network. This is because the output of the VGG-16 model, which is an advanced model trained on a very large dataset of images, is fed to our neural network as a feature vector. This feature vector is then fed through 2 dense layers which classify the image as either a car or other. By using this architecture of transfer learning, we can use an advanced and pretrained model inside of our neural network. The VGG16 model does all of the heavy work, while the 2 dense layers in the end simply classify the image as car or other."
   ]
  },
  {
   "cell_type": "markdown",
   "id": "english-valley",
   "metadata": {},
   "source": [
    "## Part 4: Visualizing the learned features"
   ]
  },
  {
   "cell_type": "code",
   "execution_count": 64,
   "id": "iraqi-default",
   "metadata": {},
   "outputs": [
    {
     "data": {
      "text/plain": [
       "(3, 3, 3, 64)"
      ]
     },
     "execution_count": 64,
     "metadata": {},
     "output_type": "execute_result"
    }
   ],
   "source": [
    "first_layer_weights = vggmodel.get_weights()[0]\n",
    "first_layer_weights.shape"
   ]
  },
  {
   "cell_type": "markdown",
   "id": "unlike-military",
   "metadata": {},
   "source": [
    "### The first filter in the convolutional layer. It has 3 channels, one for each color"
   ]
  },
  {
   "cell_type": "code",
   "execution_count": 65,
   "id": "express-bunch",
   "metadata": {},
   "outputs": [
    {
     "data": {
      "text/plain": [
       "array([[[ 0.42947057,  0.55037946,  0.4800154 ],\n",
       "        [ 0.373467  ,  0.44007453,  0.4085474 ],\n",
       "        [-0.06136011, -0.08138704, -0.06514555]],\n",
       "\n",
       "       [[ 0.27476987,  0.34573907,  0.31047726],\n",
       "        [ 0.03868078,  0.04063221,  0.05020237],\n",
       "        [-0.36722335, -0.4535013 , -0.40338343]],\n",
       "\n",
       "       [[-0.05746817, -0.05863491, -0.05087169],\n",
       "        [-0.26224968, -0.33066967, -0.2852275 ],\n",
       "        [-0.35009676, -0.4850302 , -0.41851634]]], dtype=float32)"
      ]
     },
     "execution_count": 65,
     "metadata": {},
     "output_type": "execute_result"
    }
   ],
   "source": [
    "first_layer_weights[:,:,:,0]"
   ]
  },
  {
   "cell_type": "code",
   "execution_count": 66,
   "id": "congressional-absence",
   "metadata": {},
   "outputs": [],
   "source": [
    "def kernel_image(weights, i, positive):\n",
    "    \n",
    "    # extract the convolutional kernel at position i\n",
    "    k = weights[:,:,:,i].copy()\n",
    "    if not positive:\n",
    "        k = -k\n",
    "    \n",
    "    # clip the values: if we're looking for positive\n",
    "    # values, just keep the positive part; vice versa\n",
    "    # for the negative values.\n",
    "    k *= k > 0\n",
    "\n",
    "    # rescale the colors, to make the images less dark\n",
    "    m = k.max()\n",
    "    if m > 1e-3:\n",
    "        k /= m \n",
    "\n",
    "    return k"
   ]
  },
  {
   "cell_type": "code",
   "execution_count": 69,
   "id": "blond-headset",
   "metadata": {},
   "outputs": [
    {
     "data": {
      "text/plain": [
       "array([[ 0.78031725,  1.        ,  0.8721536 ],\n",
       "       [ 0.67856276,  0.79958385,  0.74230134],\n",
       "       [-0.        , -0.        , -0.        ]], dtype=float32)"
      ]
     },
     "execution_count": 69,
     "metadata": {},
     "output_type": "execute_result"
    }
   ],
   "source": [
    "kernel_image(first_layer_weights,0,True)[0]"
   ]
  },
  {
   "cell_type": "code",
   "execution_count": 96,
   "id": "conceptual-singles",
   "metadata": {},
   "outputs": [],
   "source": [
    "def visualize_filter(n):\n",
    "    fig = plt.figure(figsize=(6,4),dpi=100)\n",
    "    fig.add_subplot(1,2,1)\n",
    "    plt.imshow(kernel_image(first_layer_weights,n,True))\n",
    "    fig.add_subplot(1,2,2)\n",
    "    plt.imshow(kernel_image(first_layer_weights,n,False))\n",
    "    plt.plot()"
   ]
  },
  {
   "cell_type": "code",
   "execution_count": 97,
   "id": "bound-canyon",
   "metadata": {},
   "outputs": [
    {
     "data": {
      "image/png": "[encoded data removed]",
      "text/plain": [
       "<Figure size 600x400 with 2 Axes>"
      ]
     },
     "metadata": {
      "needs_background": "light"
     },
     "output_type": "display_data"
    },
    {
     "data": {
      "image/png": "[encoded data removed]",
      "text/plain": [
       "<Figure size 600x400 with 2 Axes>"
      ]
     },
     "metadata": {
      "needs_background": "light"
     },
     "output_type": "display_data"
    },
    {
     "data": {
      "image/png": "[encoded data removed]",
      "text/plain": [
       "<Figure size 600x400 with 2 Axes>"
      ]
     },
     "metadata": {
      "needs_background": "light"
     },
     "output_type": "display_data"
    },
    {
     "data": {
      "image/png": "[encoded data removed]",
      "text/plain": [
       "<Figure size 600x400 with 2 Axes>"
      ]
     },
     "metadata": {
      "needs_background": "light"
     },
     "output_type": "display_data"
    },
    {
     "data": {
      "image/png": "[encoded data removed]",
      "text/plain": [
       "<Figure size 600x400 with 2 Axes>"
      ]
     },
     "metadata": {
      "needs_background": "light"
     },
     "output_type": "display_data"
    },
    {
     "data": {
      "image/png": "[encoded data removed]",
      "text/plain": [
       "<Figure size 600x400 with 2 Axes>"
      ]
     },
     "metadata": {
      "needs_background": "light"
     },
     "output_type": "display_data"
    },
    {
     "data": {
      "image/png": "[encoded data removed]",
      "text/plain": [
       "<Figure size 600x400 with 2 Axes>"
      ]
     },
     "metadata": {
      "needs_background": "light"
     },
     "output_type": "display_data"
    },
    {
     "data": {
      "image/png": "[encoded data removed]",
      "text/plain": [
       "<Figure size 600x400 with 2 Axes>"
      ]
     },
     "metadata": {
      "needs_background": "light"
     },
     "output_type": "display_data"
    },
    {
     "data": {
      "image/png": "[encoded data removed]",
      "text/plain": [
       "<Figure size 600x400 with 2 Axes>"
      ]
     },
     "metadata": {
      "needs_background": "light"
     },
     "output_type": "display_data"
    },
    {
     "data": {
      "image/png": "[encoded data removed]",
      "text/plain": [
       "<Figure size 600x400 with 2 Axes>"
      ]
     },
     "metadata": {
      "needs_background": "light"
     },
     "output_type": "display_data"
    }
   ],
   "source": [
    "for i in range(10):\n",
    "    visualize_filter(i)"
   ]
  },
  {
   "cell_type": "markdown",
   "id": "fundamental-major",
   "metadata": {},
   "source": [
    "We can see that each filter matrix is made up of different colors and patterns. The images represent different patterns that the filter matrix is looking for in the image. For example, the first filter matrix is looking for a light green edge in the image."
   ]
  }
 ],
 "metadata": {
  "kernelspec": {
   "display_name": "Python 3",
   "language": "python",
   "name": "python3"
  },
  "language_info": {
   "codemirror_mode": {
    "name": "ipython",
    "version": 3
   },
   "file_extension": ".py",
   "mimetype": "text/x-python",
   "name": "python",
   "nbconvert_exporter": "python",
   "pygments_lexer": "ipython3",
   "version": "3.9.2"
  }
 },
 "nbformat": 4,
 "nbformat_minor": 5
}
