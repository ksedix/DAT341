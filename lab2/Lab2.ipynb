{
 "cells": [
  {
   "cell_type": "markdown",
   "id": "outer-christopher",
   "metadata": {},
   "source": [
    "# Assignment 2 - DAT341\n",
    "## Group 23\n",
    "## Group Members: Mirco Ghadri, Tobias Filmberg, Sameer Jathavedan\n",
    "https://www.cse.chalmers.se/~richajo/dit866/assignments/a2/assignment2.html"
   ]
  },
  {
   "cell_type": "code",
   "execution_count": 1,
   "id": "bronze-reference",
   "metadata": {},
   "outputs": [],
   "source": [
    "import pandas as pd"
   ]
  },
  {
   "cell_type": "markdown",
   "id": "compact-report",
   "metadata": {},
   "source": [
    "## Task 1: Working with a dataset with categorical features"
   ]
  },
  {
   "cell_type": "code",
   "execution_count": 2,
   "id": "correct-marketing",
   "metadata": {},
   "outputs": [],
   "source": [
    "adult_train = pd.read_csv(\"adult_train.csv\")\n",
    "adult_test = pd.read_csv(\"adult_test.csv\")"
   ]
  },
  {
   "cell_type": "code",
   "execution_count": 3,
   "id": "cheap-unemployment",
   "metadata": {},
   "outputs": [
    {
     "data": {
      "text/html": [
       "<div>\n",
       "<style scoped>\n",
       "    .dataframe tbody tr th:only-of-type {\n",
       "        vertical-align: middle;\n",
       "    }\n",
       "\n",
       "    .dataframe tbody tr th {\n",
       "        vertical-align: top;\n",
       "    }\n",
       "\n",
       "    .dataframe thead th {\n",
       "        text-align: right;\n",
       "    }\n",
       "</style>\n",
       "<table border=\"1\" class=\"dataframe\">\n",
       "  <thead>\n",
       "    <tr style=\"text-align: right;\">\n",
       "      <th></th>\n",
       "      <th>age</th>\n",
       "      <th>workclass</th>\n",
       "      <th>education</th>\n",
       "      <th>education-num</th>\n",
       "      <th>marital-status</th>\n",
       "      <th>occupation</th>\n",
       "      <th>relationship</th>\n",
       "      <th>race</th>\n",
       "      <th>sex</th>\n",
       "      <th>capital-gain</th>\n",
       "      <th>capital-loss</th>\n",
       "      <th>hours-per-week</th>\n",
       "      <th>native-country</th>\n",
       "      <th>target</th>\n",
       "    </tr>\n",
       "  </thead>\n",
       "  <tbody>\n",
       "    <tr>\n",
       "      <th>0</th>\n",
       "      <td>27</td>\n",
       "      <td>Private</td>\n",
       "      <td>Some-college</td>\n",
       "      <td>10</td>\n",
       "      <td>Divorced</td>\n",
       "      <td>Adm-clerical</td>\n",
       "      <td>Unmarried</td>\n",
       "      <td>White</td>\n",
       "      <td>Female</td>\n",
       "      <td>0</td>\n",
       "      <td>0</td>\n",
       "      <td>44</td>\n",
       "      <td>United-States</td>\n",
       "      <td>&lt;=50K</td>\n",
       "    </tr>\n",
       "    <tr>\n",
       "      <th>1</th>\n",
       "      <td>27</td>\n",
       "      <td>Private</td>\n",
       "      <td>Bachelors</td>\n",
       "      <td>13</td>\n",
       "      <td>Never-married</td>\n",
       "      <td>Prof-specialty</td>\n",
       "      <td>Not-in-family</td>\n",
       "      <td>White</td>\n",
       "      <td>Female</td>\n",
       "      <td>0</td>\n",
       "      <td>0</td>\n",
       "      <td>40</td>\n",
       "      <td>United-States</td>\n",
       "      <td>&lt;=50K</td>\n",
       "    </tr>\n",
       "    <tr>\n",
       "      <th>2</th>\n",
       "      <td>25</td>\n",
       "      <td>Private</td>\n",
       "      <td>Assoc-acdm</td>\n",
       "      <td>12</td>\n",
       "      <td>Married-civ-spouse</td>\n",
       "      <td>Sales</td>\n",
       "      <td>Husband</td>\n",
       "      <td>White</td>\n",
       "      <td>Male</td>\n",
       "      <td>0</td>\n",
       "      <td>0</td>\n",
       "      <td>40</td>\n",
       "      <td>United-States</td>\n",
       "      <td>&lt;=50K</td>\n",
       "    </tr>\n",
       "    <tr>\n",
       "      <th>3</th>\n",
       "      <td>46</td>\n",
       "      <td>Private</td>\n",
       "      <td>5th-6th</td>\n",
       "      <td>3</td>\n",
       "      <td>Married-civ-spouse</td>\n",
       "      <td>Transport-moving</td>\n",
       "      <td>Husband</td>\n",
       "      <td>Amer-Indian-Eskimo</td>\n",
       "      <td>Male</td>\n",
       "      <td>0</td>\n",
       "      <td>1902</td>\n",
       "      <td>40</td>\n",
       "      <td>United-States</td>\n",
       "      <td>&lt;=50K</td>\n",
       "    </tr>\n",
       "    <tr>\n",
       "      <th>4</th>\n",
       "      <td>45</td>\n",
       "      <td>Private</td>\n",
       "      <td>11th</td>\n",
       "      <td>7</td>\n",
       "      <td>Divorced</td>\n",
       "      <td>Transport-moving</td>\n",
       "      <td>Not-in-family</td>\n",
       "      <td>White</td>\n",
       "      <td>Male</td>\n",
       "      <td>0</td>\n",
       "      <td>2824</td>\n",
       "      <td>76</td>\n",
       "      <td>United-States</td>\n",
       "      <td>&gt;50K</td>\n",
       "    </tr>\n",
       "  </tbody>\n",
       "</table>\n",
       "</div>"
      ],
      "text/plain": [
       "   age workclass     education  education-num      marital-status  \\\n",
       "0   27   Private  Some-college             10            Divorced   \n",
       "1   27   Private     Bachelors             13       Never-married   \n",
       "2   25   Private    Assoc-acdm             12  Married-civ-spouse   \n",
       "3   46   Private       5th-6th              3  Married-civ-spouse   \n",
       "4   45   Private          11th              7            Divorced   \n",
       "\n",
       "         occupation   relationship                race     sex  capital-gain  \\\n",
       "0      Adm-clerical      Unmarried               White  Female             0   \n",
       "1    Prof-specialty  Not-in-family               White  Female             0   \n",
       "2             Sales        Husband               White    Male             0   \n",
       "3  Transport-moving        Husband  Amer-Indian-Eskimo    Male             0   \n",
       "4  Transport-moving  Not-in-family               White    Male             0   \n",
       "\n",
       "   capital-loss  hours-per-week native-country target  \n",
       "0             0              44  United-States  <=50K  \n",
       "1             0              40  United-States  <=50K  \n",
       "2             0              40  United-States  <=50K  \n",
       "3          1902              40  United-States  <=50K  \n",
       "4          2824              76  United-States   >50K  "
      ]
     },
     "execution_count": 3,
     "metadata": {},
     "output_type": "execute_result"
    }
   ],
   "source": [
    "adult_train.head()"
   ]
  },
  {
   "cell_type": "code",
   "execution_count": 4,
   "id": "unsigned-specification",
   "metadata": {},
   "outputs": [
    {
     "data": {
      "text/html": [
       "<div>\n",
       "<style scoped>\n",
       "    .dataframe tbody tr th:only-of-type {\n",
       "        vertical-align: middle;\n",
       "    }\n",
       "\n",
       "    .dataframe tbody tr th {\n",
       "        vertical-align: top;\n",
       "    }\n",
       "\n",
       "    .dataframe thead th {\n",
       "        text-align: right;\n",
       "    }\n",
       "</style>\n",
       "<table border=\"1\" class=\"dataframe\">\n",
       "  <thead>\n",
       "    <tr style=\"text-align: right;\">\n",
       "      <th></th>\n",
       "      <th>age</th>\n",
       "      <th>workclass</th>\n",
       "      <th>education</th>\n",
       "      <th>education-num</th>\n",
       "      <th>marital-status</th>\n",
       "      <th>occupation</th>\n",
       "      <th>relationship</th>\n",
       "      <th>race</th>\n",
       "      <th>sex</th>\n",
       "      <th>capital-gain</th>\n",
       "      <th>capital-loss</th>\n",
       "      <th>hours-per-week</th>\n",
       "      <th>native-country</th>\n",
       "      <th>target</th>\n",
       "    </tr>\n",
       "  </thead>\n",
       "  <tbody>\n",
       "    <tr>\n",
       "      <th>0</th>\n",
       "      <td>25</td>\n",
       "      <td>Private</td>\n",
       "      <td>11th</td>\n",
       "      <td>7</td>\n",
       "      <td>Never-married</td>\n",
       "      <td>Machine-op-inspct</td>\n",
       "      <td>Own-child</td>\n",
       "      <td>Black</td>\n",
       "      <td>Male</td>\n",
       "      <td>0</td>\n",
       "      <td>0</td>\n",
       "      <td>40</td>\n",
       "      <td>United-States</td>\n",
       "      <td>&lt;=50K</td>\n",
       "    </tr>\n",
       "    <tr>\n",
       "      <th>1</th>\n",
       "      <td>38</td>\n",
       "      <td>Private</td>\n",
       "      <td>HS-grad</td>\n",
       "      <td>9</td>\n",
       "      <td>Married-civ-spouse</td>\n",
       "      <td>Farming-fishing</td>\n",
       "      <td>Husband</td>\n",
       "      <td>White</td>\n",
       "      <td>Male</td>\n",
       "      <td>0</td>\n",
       "      <td>0</td>\n",
       "      <td>50</td>\n",
       "      <td>United-States</td>\n",
       "      <td>&lt;=50K</td>\n",
       "    </tr>\n",
       "    <tr>\n",
       "      <th>2</th>\n",
       "      <td>28</td>\n",
       "      <td>Local-gov</td>\n",
       "      <td>Assoc-acdm</td>\n",
       "      <td>12</td>\n",
       "      <td>Married-civ-spouse</td>\n",
       "      <td>Protective-serv</td>\n",
       "      <td>Husband</td>\n",
       "      <td>White</td>\n",
       "      <td>Male</td>\n",
       "      <td>0</td>\n",
       "      <td>0</td>\n",
       "      <td>40</td>\n",
       "      <td>United-States</td>\n",
       "      <td>&gt;50K</td>\n",
       "    </tr>\n",
       "    <tr>\n",
       "      <th>3</th>\n",
       "      <td>44</td>\n",
       "      <td>Private</td>\n",
       "      <td>Some-college</td>\n",
       "      <td>10</td>\n",
       "      <td>Married-civ-spouse</td>\n",
       "      <td>Machine-op-inspct</td>\n",
       "      <td>Husband</td>\n",
       "      <td>Black</td>\n",
       "      <td>Male</td>\n",
       "      <td>7688</td>\n",
       "      <td>0</td>\n",
       "      <td>40</td>\n",
       "      <td>United-States</td>\n",
       "      <td>&gt;50K</td>\n",
       "    </tr>\n",
       "    <tr>\n",
       "      <th>4</th>\n",
       "      <td>18</td>\n",
       "      <td>?</td>\n",
       "      <td>Some-college</td>\n",
       "      <td>10</td>\n",
       "      <td>Never-married</td>\n",
       "      <td>?</td>\n",
       "      <td>Own-child</td>\n",
       "      <td>White</td>\n",
       "      <td>Female</td>\n",
       "      <td>0</td>\n",
       "      <td>0</td>\n",
       "      <td>30</td>\n",
       "      <td>United-States</td>\n",
       "      <td>&lt;=50K</td>\n",
       "    </tr>\n",
       "  </tbody>\n",
       "</table>\n",
       "</div>"
      ],
      "text/plain": [
       "   age  workclass     education  education-num      marital-status  \\\n",
       "0   25    Private          11th              7       Never-married   \n",
       "1   38    Private       HS-grad              9  Married-civ-spouse   \n",
       "2   28  Local-gov    Assoc-acdm             12  Married-civ-spouse   \n",
       "3   44    Private  Some-college             10  Married-civ-spouse   \n",
       "4   18          ?  Some-college             10       Never-married   \n",
       "\n",
       "          occupation relationship   race     sex  capital-gain  capital-loss  \\\n",
       "0  Machine-op-inspct    Own-child  Black    Male             0             0   \n",
       "1    Farming-fishing      Husband  White    Male             0             0   \n",
       "2    Protective-serv      Husband  White    Male             0             0   \n",
       "3  Machine-op-inspct      Husband  Black    Male          7688             0   \n",
       "4                  ?    Own-child  White  Female             0             0   \n",
       "\n",
       "   hours-per-week native-country target  \n",
       "0              40  United-States  <=50K  \n",
       "1              50  United-States  <=50K  \n",
       "2              40  United-States   >50K  \n",
       "3              40  United-States   >50K  \n",
       "4              30  United-States  <=50K  "
      ]
     },
     "execution_count": 4,
     "metadata": {},
     "output_type": "execute_result"
    }
   ],
   "source": [
    "adult_test.head()"
   ]
  },
  {
   "cell_type": "markdown",
   "id": "posted-collins",
   "metadata": {},
   "source": [
    "### Step 1. Reading the data"
   ]
  },
  {
   "cell_type": "code",
   "execution_count": 5,
   "id": "labeled-committee",
   "metadata": {},
   "outputs": [],
   "source": [
    "#separating the features from the target variable\n",
    "adult_train_x = adult_train.drop(columns=\"target\")\n",
    "adult_train_y = adult_train[\"target\"]\n",
    "adult_test_x = adult_test.drop(columns=\"target\")\n",
    "adult_test_y = adult_test[\"target\"]"
   ]
  },
  {
   "cell_type": "markdown",
   "id": "green-laptop",
   "metadata": {},
   "source": [
    "### Step 2: Encoding the features as numbers."
   ]
  },
  {
   "cell_type": "code",
   "execution_count": 6,
   "id": "official-intensity",
   "metadata": {},
   "outputs": [],
   "source": [
    "from sklearn.feature_extraction import DictVectorizer\n",
    "#convert the features into dictionaries so that they can be one-hot encoded\n",
    "adult_train_dict = adult_train_x.to_dict(\"records\")\n",
    "adult_test_dict = adult_test_x.to_dict(\"records\")\n",
    "dv = DictVectorizer()\n",
    "#one-hot encoding of the categorical columns\n",
    "adult_train_encoded = dv.fit_transform(adult_train_dict)\n",
    "adult_test_encoded = dv.transform(adult_test_dict)"
   ]
  },
  {
   "cell_type": "code",
   "execution_count": 7,
   "id": "inclusive-draft",
   "metadata": {},
   "outputs": [
    {
     "name": "stdout",
     "output_type": "stream",
     "text": [
      "  (0, 0)\t27.0\n",
      "  (0, 1)\t0.0\n",
      "  (0, 2)\t0.0\n",
      "  (0, 3)\t10.0\n",
      "  (0, 19)\t1.0\n",
      "  (0, 20)\t44.0\n",
      "  (0, 21)\t1.0\n",
      "  (0, 67)\t1.0\n",
      "  (0, 71)\t1.0\n",
      "  (0, 89)\t1.0\n",
      "  (0, 94)\t1.0\n",
      "  (0, 96)\t1.0\n",
      "  (0, 102)\t1.0\n"
     ]
    }
   ],
   "source": [
    "print(adult_train_encoded[0])"
   ]
  },
  {
   "cell_type": "markdown",
   "id": "competitive-secretariat",
   "metadata": {},
   "source": [
    "### Computing accuracy on training and test set"
   ]
  },
  {
   "cell_type": "markdown",
   "id": "chinese-uncertainty",
   "metadata": {},
   "source": [
    "From assignment 1, we knew that the model that had the highest accuracy on classifying data was the Gradient Boosted Classifier. Therefore we will use this classifier."
   ]
  },
  {
   "cell_type": "code",
   "execution_count": 8,
   "id": "composed-prediction",
   "metadata": {},
   "outputs": [],
   "source": [
    "from sklearn.ensemble import GradientBoostingClassifier\n",
    "from sklearn.model_selection import cross_val_score\n",
    "gbc = GradientBoostingClassifier()"
   ]
  },
  {
   "cell_type": "code",
   "execution_count": 9,
   "id": "united-nickname",
   "metadata": {},
   "outputs": [
    {
     "data": {
      "text/plain": [
       "array([0.86427146, 0.87223587, 0.86624693, 0.86210074, 0.8634828 ])"
      ]
     },
     "execution_count": 9,
     "metadata": {},
     "output_type": "execute_result"
    }
   ],
   "source": [
    "#How many folds does cross validation do? Seems like 5\n",
    "cross_val_score(gbc, adult_train_encoded, adult_train_y)"
   ]
  },
  {
   "cell_type": "code",
   "execution_count": 10,
   "id": "aerial-denver",
   "metadata": {},
   "outputs": [
    {
     "data": {
      "text/plain": [
       "array([0.8633712 , 0.87407862, 0.86148649, 0.8713145 , 0.87192875])"
      ]
     },
     "execution_count": 10,
     "metadata": {},
     "output_type": "execute_result"
    }
   ],
   "source": [
    "cross_val_score(gbc, adult_test_encoded, adult_test_y)"
   ]
  },
  {
   "cell_type": "markdown",
   "id": "internal-tackle",
   "metadata": {},
   "source": [
    "### Step 3. Combining the steps."
   ]
  },
  {
   "cell_type": "code",
   "execution_count": 11,
   "id": "interracial-prescription",
   "metadata": {},
   "outputs": [],
   "source": [
    "from sklearn.pipeline import make_pipeline\n",
    "  \n",
    "pipeline = make_pipeline(\n",
    "  DictVectorizer(),\n",
    "  GradientBoostingClassifier()\n",
    ")"
   ]
  },
  {
   "cell_type": "markdown",
   "id": "incorporate-camcorder",
   "metadata": {},
   "source": [
    "### We can see that the pipeline automatically calls DictVectorizer fit_transform() on the adult_train_dict before it uses the GradientBoostingClassifier to train on the data when we call pipeline.fit()"
   ]
  },
  {
   "cell_type": "code",
   "execution_count": 12,
   "id": "under-buying",
   "metadata": {},
   "outputs": [],
   "source": [
    "from sklearn.metrics import accuracy_score\n",
    "\n",
    "pipeline.fit(adult_train_dict, adult_train_y)\n",
    "y_pred = pipeline.predict(adult_test_dict)"
   ]
  },
  {
   "cell_type": "markdown",
   "id": "monthly-preview",
   "metadata": {},
   "source": [
    "### The test accuracy for the pipeline matches the test accuracy that we computed above using the manual steps(DictVectorizer + Gradient Boosting Classifier) on the data. Thus, we know that the pipeline works as expected"
   ]
  },
  {
   "cell_type": "code",
   "execution_count": 13,
   "id": "answering-expansion",
   "metadata": {},
   "outputs": [
    {
     "data": {
      "text/plain": [
       "0.8711381364781033"
      ]
     },
     "execution_count": 13,
     "metadata": {},
     "output_type": "execute_result"
    }
   ],
   "source": [
    "accuracy_score(adult_test_y,y_pred)"
   ]
  },
  {
   "cell_type": "markdown",
   "id": "integral-asset",
   "metadata": {},
   "source": [
    "## Task 2: Decision trees and random forests"
   ]
  },
  {
   "cell_type": "markdown",
   "id": "realistic-sweden",
   "metadata": {},
   "source": [
    "### Underfitting and overfitting in decision tree classifiers."
   ]
  },
  {
   "cell_type": "code",
   "execution_count": 14,
   "id": "congressional-switzerland",
   "metadata": {},
   "outputs": [],
   "source": [
    "from sklearn.tree import DecisionTreeClassifier\n",
    "from matplotlib import pyplot as plt\n",
    "\n",
    "train_accuracy = []\n",
    "test_accuracy = []\n",
    "\n",
    "for i in range(1,18):\n",
    "    dtc = DecisionTreeClassifier(max_depth=i)\n",
    "    dtc.fit(adult_train_encoded,adult_train_y)\n",
    "    train_accuracy.append(dtc.score(adult_train_encoded,adult_train_y))\n",
    "    test_accuracy.append(dtc.score(adult_test_encoded, adult_test_y))"
   ]
  },
  {
   "cell_type": "code",
   "execution_count": 15,
   "id": "minimal-seeker",
   "metadata": {},
   "outputs": [
    {
     "data": {
      "image/png": "[encoded data removed]",
      "text/plain": [
       "<Figure size 600x400 with 1 Axes>"
      ]
     },
     "metadata": {
      "needs_background": "light"
     },
     "output_type": "display_data"
    }
   ],
   "source": [
    "plt.figure(figsize=(6,4), dpi=100)\n",
    "plt.xlabel(\"Tree Depth\")\n",
    "plt.ylabel(\"Accuracy\")\n",
    "plt.plot(range(1,18),train_accuracy, label=\"training accuracy\")\n",
    "plt.plot(range(1,18),test_accuracy, label = \"testing accuracy\")\n",
    "plt.legend()\n",
    "plt.show()"
   ]
  },
  {
   "cell_type": "markdown",
   "id": "relative-trail",
   "metadata": {},
   "source": [
    "### A similar effect as in the experiment in Assignment 1, Task 4 step 4 can be observed. We see that as the tree depth goes above and beyond 6, the gap between the training and testing accuracy increases."
   ]
  },
  {
   "cell_type": "markdown",
   "id": "entire-mississippi",
   "metadata": {},
   "source": [
    "### Underfitting and overfitting in random forest classifiers."
   ]
  },
  {
   "cell_type": "markdown",
   "id": "floppy-ghost",
   "metadata": {},
   "source": [
    "### Ensemble size of 1 (1 Decision Tree in the random forest)"
   ]
  },
  {
   "cell_type": "code",
   "execution_count": 16,
   "id": "english-wagner",
   "metadata": {},
   "outputs": [],
   "source": [
    "from sklearn.ensemble import RandomForestClassifier\n",
    "\n",
    "train_accuracy = []\n",
    "test_accuracy = []\n",
    "\n",
    "for i in range(1,18):\n",
    "    rfc = RandomForestClassifier(n_estimators=1, max_depth=i)\n",
    "    rfc.fit(adult_train_encoded,adult_train_y)\n",
    "    train_accuracy.append(rfc.score(adult_train_encoded,adult_train_y))\n",
    "    test_accuracy.append(rfc.score(adult_test_encoded, adult_test_y))"
   ]
  },
  {
   "cell_type": "code",
   "execution_count": 17,
   "id": "through-associate",
   "metadata": {},
   "outputs": [
    {
     "data": {
      "image/png": "[encoded data removed]",
      "text/plain": [
       "<Figure size 600x400 with 1 Axes>"
      ]
     },
     "metadata": {
      "needs_background": "light"
     },
     "output_type": "display_data"
    }
   ],
   "source": [
    "plt.figure(figsize=(6,4), dpi=100)\n",
    "plt.xlabel(\"Tree Depth\")\n",
    "plt.ylabel(\"Accuracy\")\n",
    "plt.title(\"Training and testing accuracy of random forest with 1 decision tree\")\n",
    "plt.plot(range(1,18),train_accuracy, label=\"training accuracy\")\n",
    "plt.plot(range(1,18),test_accuracy, label = \"testing accuracy\")\n",
    "plt.legend()\n",
    "plt.show()"
   ]
  },
  {
   "cell_type": "markdown",
   "id": "bridal-trigger",
   "metadata": {},
   "source": [
    "### 1. What's the difference between the curve for a decision tree and for a random forest with an ensemble size of 1, and why do we see this difference?"
   ]
  },
  {
   "cell_type": "markdown",
   "id": "inner-humor",
   "metadata": {},
   "source": [
    "We can see that when using a random forest, and having n_estimators set to 1, which means that there is 1 tree in the random forest, there is still a lot of difference in the training and testing accuracy in the random forest when comparing it to a single Decision Tree Classifier. The training and testing accuracy fluctuates a lot more in the random forest with 1 decision tree in it. This can be because a random forest always creates a different tree using a method called bagging. This means that when a random forest creates a tree, it selects a subset of the datapoints in the training data(with replacement) and uses this subset to create the tree. Thus, a different tree will be created everytime which can explain why the training and testing accuracy fluctuates so much. Also, random forests use a process known as feature bagging, which means that only a subset of the features are considered for each split when creating the tree. By default, the length of the subset of features that are considered for each split is the square root of the total number of features. So for example, if a dataset has 25 features, the random forest only considers 5 random features when it's creating/training its trees. Therefore, the tree that is created is much less predictable and different each time."
   ]
  },
  {
   "cell_type": "markdown",
   "id": "reverse-spain",
   "metadata": {},
   "source": [
    "### Ensemble size of 5 (5 decision trees in the random forest)"
   ]
  },
  {
   "cell_type": "code",
   "execution_count": 35,
   "id": "informational-treaty",
   "metadata": {},
   "outputs": [],
   "source": [
    "from sklearn.ensemble import RandomForestClassifier\n",
    "\n",
    "train_accuracy = []\n",
    "test_accuracy = []\n",
    "\n",
    "for i in range(1,18):\n",
    "    #n_jobs=-1 will allow the RandomForestClassifier to be trained faster because it will use all CPU cores\n",
    "    rfc = RandomForestClassifier(n_estimators=5, max_depth=i, n_jobs=-1)\n",
    "    rfc.fit(adult_train_encoded,adult_train_y)\n",
    "    train_accuracy.append(rfc.score(adult_train_encoded,adult_train_y))\n",
    "    test_accuracy.append(rfc.score(adult_test_encoded, adult_test_y))"
   ]
  },
  {
   "cell_type": "code",
   "execution_count": 36,
   "id": "scientific-letters",
   "metadata": {
    "scrolled": false
   },
   "outputs": [
    {
     "data": {
      "image/png": "[encoded data removed]",
      "text/plain": [
       "<Figure size 600x400 with 1 Axes>"
      ]
     },
     "metadata": {
      "needs_background": "light"
     },
     "output_type": "display_data"
    }
   ],
   "source": [
    "plt.figure(figsize=(6,4), dpi=100)\n",
    "plt.xlabel(\"Tree Depth\")\n",
    "plt.ylabel(\"Accuracy\")\n",
    "plt.title(\"Training and testing accuracy of random forest with 5 decision trees\")\n",
    "plt.plot(range(1,18),train_accuracy, label=\"training accuracy\")\n",
    "plt.plot(range(1,18),test_accuracy, label = \"testing accuracy\")\n",
    "plt.legend()\n",
    "plt.show()"
   ]
  },
  {
   "cell_type": "markdown",
   "id": "interior-enforcement",
   "metadata": {},
   "source": [
    "### Ensemble size of 10 (10 Decision Trees in the random forest)"
   ]
  },
  {
   "cell_type": "code",
   "execution_count": 20,
   "id": "italian-windows",
   "metadata": {},
   "outputs": [],
   "source": [
    "from sklearn.ensemble import RandomForestClassifier\n",
    "\n",
    "train_accuracy = []\n",
    "test_accuracy = []\n",
    "\n",
    "for i in range(1,18):\n",
    "    rfc = RandomForestClassifier(n_estimators=10, max_depth=i, n_jobs=-1)\n",
    "    rfc.fit(adult_train_encoded,adult_train_y)\n",
    "    train_accuracy.append(rfc.score(adult_train_encoded,adult_train_y))\n",
    "    test_accuracy.append(rfc.score(adult_test_encoded, adult_test_y))"
   ]
  },
  {
   "cell_type": "code",
   "execution_count": 21,
   "id": "rental-property",
   "metadata": {},
   "outputs": [
    {
     "data": {
      "image/png": "[encoded data removed]",
      "text/plain": [
       "<Figure size 600x400 with 1 Axes>"
      ]
     },
     "metadata": {
      "needs_background": "light"
     },
     "output_type": "display_data"
    }
   ],
   "source": [
    "plt.figure(figsize=(6,4), dpi=100)\n",
    "plt.xlabel(\"Tree Depth\")\n",
    "plt.ylabel(\"Accuracy\")\n",
    "plt.title(\"Training and testing accuracy of random forest with 10 decision trees\")\n",
    "plt.plot(range(1,18),train_accuracy, label=\"training accuracy\")\n",
    "plt.plot(range(1,18),test_accuracy, label = \"testing accuracy\")\n",
    "plt.legend()\n",
    "plt.show()"
   ]
  },
  {
   "cell_type": "markdown",
   "id": "wooden-gauge",
   "metadata": {},
   "source": [
    "### Ensemble size of 100 (100 Decision Trees in the random forest)"
   ]
  },
  {
   "cell_type": "code",
   "execution_count": 22,
   "id": "spoken-damage",
   "metadata": {},
   "outputs": [],
   "source": [
    "from sklearn.ensemble import RandomForestClassifier\n",
    "\n",
    "train_accuracy = []\n",
    "test_accuracy = []\n",
    "\n",
    "for i in range(1,18):\n",
    "    #The default value for n_estimators is 100. So we omit the parameter\n",
    "    rfc = RandomForestClassifier(max_depth=i, n_jobs=-1)\n",
    "    rfc.fit(adult_train_encoded,adult_train_y)\n",
    "    train_accuracy.append(rfc.score(adult_train_encoded,adult_train_y))\n",
    "    test_accuracy.append(rfc.score(adult_test_encoded, adult_test_y))"
   ]
  },
  {
   "cell_type": "code",
   "execution_count": 23,
   "id": "approximate-cincinnati",
   "metadata": {
    "scrolled": false
   },
   "outputs": [
    {
     "data": {
      "image/png": "[encoded data removed]",
      "text/plain": [
       "<Figure size 600x400 with 1 Axes>"
      ]
     },
     "metadata": {
      "needs_background": "light"
     },
     "output_type": "display_data"
    }
   ],
   "source": [
    "plt.figure(figsize=(6,4), dpi=100)\n",
    "plt.xlabel(\"Tree Depth\")\n",
    "plt.ylabel(\"Accuracy\")\n",
    "plt.title(\"Training and testing accuracy of random forest with 100 decision trees\")\n",
    "plt.plot(range(1,18),train_accuracy, label=\"training accuracy\")\n",
    "plt.plot(range(1,18),test_accuracy, label = \"testing accuracy\")\n",
    "plt.legend()\n",
    "plt.show()"
   ]
  },
  {
   "cell_type": "markdown",
   "id": "stuck-junior",
   "metadata": {},
   "source": [
    "### 2. What happens with the curve for random forests as the ensemble size grows?"
   ]
  },
  {
   "cell_type": "markdown",
   "id": "suspected-wholesale",
   "metadata": {},
   "source": [
    "We can see that the curve stops fluctuating when the ensemble size grows. Instead, the accuracy increases smoothly as the tree depth increases. The erratic behavior of the curve dissappears when tree size increases because even if 1 tree is very different from another tree, the prediction that is used is the most common prediction when considering all trees. Therefore the prediction will be more stable since it does not only rely on 1 tree and the prediction accuracy will also be more stable as we can observe. "
   ]
  },
  {
   "cell_type": "markdown",
   "id": "imported-sigma",
   "metadata": {},
   "source": [
    "### 3. What happens with the best observed test set accuracy as the ensemble size grows?"
   ]
  },
  {
   "cell_type": "markdown",
   "id": "beginning-carnival",
   "metadata": {},
   "source": [
    "The best observed test set accuracy does not change much as the ensemble size grows. It settles somwhere around 0.85"
   ]
  },
  {
   "cell_type": "markdown",
   "id": "first-panic",
   "metadata": {},
   "source": [
    "### 4. What happens with the training time as the ensemble size grows?"
   ]
  },
  {
   "cell_type": "markdown",
   "id": "pretty-porter",
   "metadata": {},
   "source": [
    "The training time increases as the ensemble size grows. This is because more trees have to be created in the training phase of the random forest model which takes more time."
   ]
  },
  {
   "cell_type": "markdown",
   "id": "portuguese-batch",
   "metadata": {},
   "source": [
    "## Task 3: Feature importances in random forest classifiers"
   ]
  },
  {
   "cell_type": "markdown",
   "id": "fifteen-arena",
   "metadata": {},
   "source": [
    "### Sort the features by importance scores in reverse order (so that the most important feature comes first), inspect the first few of these features, and try to reason about why you got this result."
   ]
  },
  {
   "cell_type": "markdown",
   "id": "compound-estimate",
   "metadata": {},
   "source": [
    "### We will use the feature importance scores of a single decision tree classifier as well as feature importance scores of a random forest and compare them."
   ]
  },
  {
   "cell_type": "markdown",
   "id": "outside-beast",
   "metadata": {},
   "source": [
    "### Feature Importance score for 1 Decision Tree Classifier."
   ]
  },
  {
   "cell_type": "code",
   "execution_count": 48,
   "id": "female-dating",
   "metadata": {},
   "outputs": [
    {
     "data": {
      "text/plain": [
       "array([1.17550594e-02, 2.18473012e-01, 4.69466585e-02, 2.34492663e-01,\n",
       "       0.00000000e+00, 0.00000000e+00, 0.00000000e+00, 0.00000000e+00,\n",
       "       0.00000000e+00, 0.00000000e+00, 0.00000000e+00, 0.00000000e+00,\n",
       "       0.00000000e+00, 0.00000000e+00, 0.00000000e+00, 0.00000000e+00,\n",
       "       0.00000000e+00, 3.94393793e-04, 0.00000000e+00, 0.00000000e+00,\n",
       "       2.19894688e-02, 0.00000000e+00, 0.00000000e+00, 4.65286076e-01,\n",
       "       0.00000000e+00, 0.00000000e+00, 0.00000000e+00, 0.00000000e+00,\n",
       "       0.00000000e+00, 0.00000000e+00, 0.00000000e+00, 0.00000000e+00,\n",
       "       0.00000000e+00, 0.00000000e+00, 0.00000000e+00, 0.00000000e+00,\n",
       "       0.00000000e+00, 0.00000000e+00, 0.00000000e+00, 0.00000000e+00,\n",
       "       0.00000000e+00, 0.00000000e+00, 0.00000000e+00, 0.00000000e+00,\n",
       "       0.00000000e+00, 0.00000000e+00, 0.00000000e+00, 0.00000000e+00,\n",
       "       0.00000000e+00, 0.00000000e+00, 0.00000000e+00, 0.00000000e+00,\n",
       "       0.00000000e+00, 0.00000000e+00, 0.00000000e+00, 0.00000000e+00,\n",
       "       0.00000000e+00, 0.00000000e+00, 0.00000000e+00, 0.00000000e+00,\n",
       "       0.00000000e+00, 0.00000000e+00, 0.00000000e+00, 0.00000000e+00,\n",
       "       0.00000000e+00, 0.00000000e+00, 0.00000000e+00, 0.00000000e+00,\n",
       "       0.00000000e+00, 0.00000000e+00, 0.00000000e+00, 0.00000000e+00,\n",
       "       0.00000000e+00, 0.00000000e+00, 0.00000000e+00, 7.73027321e-05,\n",
       "       0.00000000e+00, 0.00000000e+00, 0.00000000e+00, 0.00000000e+00,\n",
       "       0.00000000e+00, 0.00000000e+00, 0.00000000e+00, 0.00000000e+00,\n",
       "       0.00000000e+00, 0.00000000e+00, 0.00000000e+00, 0.00000000e+00,\n",
       "       0.00000000e+00, 0.00000000e+00, 0.00000000e+00, 0.00000000e+00,\n",
       "       0.00000000e+00, 0.00000000e+00, 0.00000000e+00, 0.00000000e+00,\n",
       "       0.00000000e+00, 0.00000000e+00, 0.00000000e+00, 0.00000000e+00,\n",
       "       2.88928168e-04, 0.00000000e+00, 0.00000000e+00, 0.00000000e+00,\n",
       "       2.96436983e-04, 0.00000000e+00, 0.00000000e+00])"
      ]
     },
     "execution_count": 48,
     "metadata": {},
     "output_type": "execute_result"
    }
   ],
   "source": [
    "dtc = DecisionTreeClassifier(max_depth=5)\n",
    "dtc.fit(adult_train_encoded, adult_train_y)\n",
    "dtc.feature_importances_"
   ]
  },
  {
   "cell_type": "code",
   "execution_count": 49,
   "id": "portuguese-calcium",
   "metadata": {},
   "outputs": [
    {
     "data": {
      "text/plain": [
       "['age',\n",
       " 'capital-gain',\n",
       " 'capital-loss',\n",
       " 'education-num',\n",
       " 'education=10th',\n",
       " 'education=11th',\n",
       " 'education=12th',\n",
       " 'education=1st-4th',\n",
       " 'education=5th-6th',\n",
       " 'education=7th-8th',\n",
       " 'education=9th',\n",
       " 'education=Assoc-acdm',\n",
       " 'education=Assoc-voc',\n",
       " 'education=Bachelors',\n",
       " 'education=Doctorate',\n",
       " 'education=HS-grad',\n",
       " 'education=Masters',\n",
       " 'education=Preschool',\n",
       " 'education=Prof-school',\n",
       " 'education=Some-college',\n",
       " 'hours-per-week',\n",
       " 'marital-status=Divorced',\n",
       " 'marital-status=Married-AF-spouse',\n",
       " 'marital-status=Married-civ-spouse',\n",
       " 'marital-status=Married-spouse-absent',\n",
       " 'marital-status=Never-married',\n",
       " 'marital-status=Separated',\n",
       " 'marital-status=Widowed',\n",
       " 'native-country=?',\n",
       " 'native-country=Cambodia',\n",
       " 'native-country=Canada',\n",
       " 'native-country=China',\n",
       " 'native-country=Columbia',\n",
       " 'native-country=Cuba',\n",
       " 'native-country=Dominican-Republic',\n",
       " 'native-country=Ecuador',\n",
       " 'native-country=El-Salvador',\n",
       " 'native-country=England',\n",
       " 'native-country=France',\n",
       " 'native-country=Germany',\n",
       " 'native-country=Greece',\n",
       " 'native-country=Guatemala',\n",
       " 'native-country=Haiti',\n",
       " 'native-country=Holand-Netherlands',\n",
       " 'native-country=Honduras',\n",
       " 'native-country=Hong',\n",
       " 'native-country=Hungary',\n",
       " 'native-country=India',\n",
       " 'native-country=Iran',\n",
       " 'native-country=Ireland',\n",
       " 'native-country=Italy',\n",
       " 'native-country=Jamaica',\n",
       " 'native-country=Japan',\n",
       " 'native-country=Laos',\n",
       " 'native-country=Mexico',\n",
       " 'native-country=Nicaragua',\n",
       " 'native-country=Outlying-US(Guam-USVI-etc)',\n",
       " 'native-country=Peru',\n",
       " 'native-country=Philippines',\n",
       " 'native-country=Poland',\n",
       " 'native-country=Portugal',\n",
       " 'native-country=Puerto-Rico',\n",
       " 'native-country=Scotland',\n",
       " 'native-country=South',\n",
       " 'native-country=Taiwan',\n",
       " 'native-country=Thailand',\n",
       " 'native-country=Trinadad&Tobago',\n",
       " 'native-country=United-States',\n",
       " 'native-country=Vietnam',\n",
       " 'native-country=Yugoslavia',\n",
       " 'occupation=?',\n",
       " 'occupation=Adm-clerical',\n",
       " 'occupation=Armed-Forces',\n",
       " 'occupation=Craft-repair',\n",
       " 'occupation=Exec-managerial',\n",
       " 'occupation=Farming-fishing',\n",
       " 'occupation=Handlers-cleaners',\n",
       " 'occupation=Machine-op-inspct',\n",
       " 'occupation=Other-service',\n",
       " 'occupation=Priv-house-serv',\n",
       " 'occupation=Prof-specialty',\n",
       " 'occupation=Protective-serv',\n",
       " 'occupation=Sales',\n",
       " 'occupation=Tech-support',\n",
       " 'occupation=Transport-moving',\n",
       " 'race=Amer-Indian-Eskimo',\n",
       " 'race=Asian-Pac-Islander',\n",
       " 'race=Black',\n",
       " 'race=Other',\n",
       " 'race=White',\n",
       " 'relationship=Husband',\n",
       " 'relationship=Not-in-family',\n",
       " 'relationship=Other-relative',\n",
       " 'relationship=Own-child',\n",
       " 'relationship=Unmarried',\n",
       " 'relationship=Wife',\n",
       " 'sex=Female',\n",
       " 'sex=Male',\n",
       " 'workclass=?',\n",
       " 'workclass=Federal-gov',\n",
       " 'workclass=Local-gov',\n",
       " 'workclass=Never-worked',\n",
       " 'workclass=Private',\n",
       " 'workclass=Self-emp-inc',\n",
       " 'workclass=Self-emp-not-inc',\n",
       " 'workclass=State-gov',\n",
       " 'workclass=Without-pay']"
      ]
     },
     "execution_count": 49,
     "metadata": {},
     "output_type": "execute_result"
    }
   ],
   "source": [
    "dv.feature_names_"
   ]
  },
  {
   "cell_type": "code",
   "execution_count": 50,
   "id": "moved-tolerance",
   "metadata": {},
   "outputs": [
    {
     "name": "stdout",
     "output_type": "stream",
     "text": [
      "[(0.4652860762776799, 23), (0.23449266282782444, 3), (0.21847301246417028, 1), (0.04694665854355955, 2), (0.02198946883889202, 20), (0.011755059371818876, 0), (0.00039439379302728744, 17), (0.00029643698326237204, 104), (0.0002889281676801234, 100), (7.730273208518886e-05, 75), (0.0, 106), (0.0, 105), (0.0, 103), (0.0, 102), (0.0, 101), (0.0, 99), (0.0, 98), (0.0, 97), (0.0, 96), (0.0, 95), (0.0, 94), (0.0, 93), (0.0, 92), (0.0, 91), (0.0, 90), (0.0, 89), (0.0, 88), (0.0, 87), (0.0, 86), (0.0, 85), (0.0, 84), (0.0, 83), (0.0, 82), (0.0, 81), (0.0, 80), (0.0, 79), (0.0, 78), (0.0, 77), (0.0, 76), (0.0, 74), (0.0, 73), (0.0, 72), (0.0, 71), (0.0, 70), (0.0, 69), (0.0, 68), (0.0, 67), (0.0, 66), (0.0, 65), (0.0, 64), (0.0, 63), (0.0, 62), (0.0, 61), (0.0, 60), (0.0, 59), (0.0, 58), (0.0, 57), (0.0, 56), (0.0, 55), (0.0, 54), (0.0, 53), (0.0, 52), (0.0, 51), (0.0, 50), (0.0, 49), (0.0, 48), (0.0, 47), (0.0, 46), (0.0, 45), (0.0, 44), (0.0, 43), (0.0, 42), (0.0, 41), (0.0, 40), (0.0, 39), (0.0, 38), (0.0, 37), (0.0, 36), (0.0, 35), (0.0, 34), (0.0, 33), (0.0, 32), (0.0, 31), (0.0, 30), (0.0, 29), (0.0, 28), (0.0, 27), (0.0, 26), (0.0, 25), (0.0, 24), (0.0, 22), (0.0, 21), (0.0, 19), (0.0, 18), (0.0, 16), (0.0, 15), (0.0, 14), (0.0, 13), (0.0, 12), (0.0, 11), (0.0, 10), (0.0, 9), (0.0, 8), (0.0, 7), (0.0, 6), (0.0, 5), (0.0, 4)]\n"
     ]
    }
   ],
   "source": [
    "#sort feature_importances_ from highest to lowest, while remembering the column position\n",
    "indices = range(107)\n",
    "feature_importances = sorted(list(zip(dtc.feature_importances_, indices)), reverse=True)\n",
    "print(feature_importances)"
   ]
  },
  {
   "cell_type": "code",
   "execution_count": 51,
   "id": "vanilla-instrument",
   "metadata": {},
   "outputs": [
    {
     "name": "stdout",
     "output_type": "stream",
     "text": [
      "[0.4652860762776799, 0.23449266282782444, 0.21847301246417028, 0.04694665854355955, 0.02198946883889202, 0.011755059371818876, 0.00039439379302728744, 0.00029643698326237204, 0.0002889281676801234, 7.730273208518886e-05, 0.0, 0.0, 0.0, 0.0, 0.0, 0.0, 0.0, 0.0, 0.0, 0.0, 0.0, 0.0, 0.0, 0.0, 0.0, 0.0, 0.0, 0.0, 0.0, 0.0, 0.0, 0.0, 0.0, 0.0, 0.0, 0.0, 0.0, 0.0, 0.0, 0.0, 0.0, 0.0, 0.0, 0.0, 0.0, 0.0, 0.0, 0.0, 0.0, 0.0, 0.0, 0.0, 0.0, 0.0, 0.0, 0.0, 0.0, 0.0, 0.0, 0.0, 0.0, 0.0, 0.0, 0.0, 0.0, 0.0, 0.0, 0.0, 0.0, 0.0, 0.0, 0.0, 0.0, 0.0, 0.0, 0.0, 0.0, 0.0, 0.0, 0.0, 0.0, 0.0, 0.0, 0.0, 0.0, 0.0, 0.0, 0.0, 0.0, 0.0, 0.0, 0.0, 0.0, 0.0, 0.0, 0.0, 0.0, 0.0, 0.0, 0.0, 0.0, 0.0, 0.0, 0.0, 0.0, 0.0, 0.0]\n"
     ]
    }
   ],
   "source": [
    "sorted_values = [t[0] for t in feature_importances]\n",
    "print(sorted_values)"
   ]
  },
  {
   "cell_type": "code",
   "execution_count": 52,
   "id": "sought-zealand",
   "metadata": {},
   "outputs": [
    {
     "name": "stdout",
     "output_type": "stream",
     "text": [
      "[23, 3, 1, 2, 20, 0, 17, 104, 100, 75, 106, 105, 103, 102, 101, 99, 98, 97, 96, 95, 94, 93, 92, 91, 90, 89, 88, 87, 86, 85, 84, 83, 82, 81, 80, 79, 78, 77, 76, 74, 73, 72, 71, 70, 69, 68, 67, 66, 65, 64, 63, 62, 61, 60, 59, 58, 57, 56, 55, 54, 53, 52, 51, 50, 49, 48, 47, 46, 45, 44, 43, 42, 41, 40, 39, 38, 37, 36, 35, 34, 33, 32, 31, 30, 29, 28, 27, 26, 25, 24, 22, 21, 19, 18, 16, 15, 14, 13, 12, 11, 10, 9, 8, 7, 6, 5, 4]\n"
     ]
    }
   ],
   "source": [
    "sorted_indices = [t[1] for t in feature_importances]\n",
    "print(sorted_indices)"
   ]
  },
  {
   "cell_type": "markdown",
   "id": "cosmetic-sensitivity",
   "metadata": {},
   "source": [
    "### We have now sorted the feature names in reverse chronological order based on feature importance score"
   ]
  },
  {
   "cell_type": "code",
   "execution_count": 53,
   "id": "miniature-pulse",
   "metadata": {},
   "outputs": [
    {
     "data": {
      "text/plain": [
       "['marital-status=Married-civ-spouse',\n",
       " 'education-num',\n",
       " 'capital-gain',\n",
       " 'capital-loss',\n",
       " 'hours-per-week',\n",
       " 'age',\n",
       " 'education=Preschool',\n",
       " 'workclass=Self-emp-not-inc',\n",
       " 'workclass=Local-gov',\n",
       " 'occupation=Farming-fishing',\n",
       " 'workclass=Without-pay',\n",
       " 'workclass=State-gov',\n",
       " 'workclass=Self-emp-inc',\n",
       " 'workclass=Private',\n",
       " 'workclass=Never-worked',\n",
       " 'workclass=Federal-gov',\n",
       " 'workclass=?',\n",
       " 'sex=Male',\n",
       " 'sex=Female',\n",
       " 'relationship=Wife',\n",
       " 'relationship=Unmarried',\n",
       " 'relationship=Own-child',\n",
       " 'relationship=Other-relative',\n",
       " 'relationship=Not-in-family',\n",
       " 'relationship=Husband',\n",
       " 'race=White',\n",
       " 'race=Other',\n",
       " 'race=Black',\n",
       " 'race=Asian-Pac-Islander',\n",
       " 'race=Amer-Indian-Eskimo',\n",
       " 'occupation=Transport-moving',\n",
       " 'occupation=Tech-support',\n",
       " 'occupation=Sales',\n",
       " 'occupation=Protective-serv',\n",
       " 'occupation=Prof-specialty',\n",
       " 'occupation=Priv-house-serv',\n",
       " 'occupation=Other-service',\n",
       " 'occupation=Machine-op-inspct',\n",
       " 'occupation=Handlers-cleaners',\n",
       " 'occupation=Exec-managerial',\n",
       " 'occupation=Craft-repair',\n",
       " 'occupation=Armed-Forces',\n",
       " 'occupation=Adm-clerical',\n",
       " 'occupation=?',\n",
       " 'native-country=Yugoslavia',\n",
       " 'native-country=Vietnam',\n",
       " 'native-country=United-States',\n",
       " 'native-country=Trinadad&Tobago',\n",
       " 'native-country=Thailand',\n",
       " 'native-country=Taiwan',\n",
       " 'native-country=South',\n",
       " 'native-country=Scotland',\n",
       " 'native-country=Puerto-Rico',\n",
       " 'native-country=Portugal',\n",
       " 'native-country=Poland',\n",
       " 'native-country=Philippines',\n",
       " 'native-country=Peru',\n",
       " 'native-country=Outlying-US(Guam-USVI-etc)',\n",
       " 'native-country=Nicaragua',\n",
       " 'native-country=Mexico',\n",
       " 'native-country=Laos',\n",
       " 'native-country=Japan',\n",
       " 'native-country=Jamaica',\n",
       " 'native-country=Italy',\n",
       " 'native-country=Ireland',\n",
       " 'native-country=Iran',\n",
       " 'native-country=India',\n",
       " 'native-country=Hungary',\n",
       " 'native-country=Hong',\n",
       " 'native-country=Honduras',\n",
       " 'native-country=Holand-Netherlands',\n",
       " 'native-country=Haiti',\n",
       " 'native-country=Guatemala',\n",
       " 'native-country=Greece',\n",
       " 'native-country=Germany',\n",
       " 'native-country=France',\n",
       " 'native-country=England',\n",
       " 'native-country=El-Salvador',\n",
       " 'native-country=Ecuador',\n",
       " 'native-country=Dominican-Republic',\n",
       " 'native-country=Cuba',\n",
       " 'native-country=Columbia',\n",
       " 'native-country=China',\n",
       " 'native-country=Canada',\n",
       " 'native-country=Cambodia',\n",
       " 'native-country=?',\n",
       " 'marital-status=Widowed',\n",
       " 'marital-status=Separated',\n",
       " 'marital-status=Never-married',\n",
       " 'marital-status=Married-spouse-absent',\n",
       " 'marital-status=Married-AF-spouse',\n",
       " 'marital-status=Divorced',\n",
       " 'education=Some-college',\n",
       " 'education=Prof-school',\n",
       " 'education=Masters',\n",
       " 'education=HS-grad',\n",
       " 'education=Doctorate',\n",
       " 'education=Bachelors',\n",
       " 'education=Assoc-voc',\n",
       " 'education=Assoc-acdm',\n",
       " 'education=9th',\n",
       " 'education=7th-8th',\n",
       " 'education=5th-6th',\n",
       " 'education=1st-4th',\n",
       " 'education=12th',\n",
       " 'education=11th',\n",
       " 'education=10th']"
      ]
     },
     "execution_count": 53,
     "metadata": {},
     "output_type": "execute_result"
    }
   ],
   "source": [
    "feature_names_sorted = [dv.feature_names_[i] for i in sorted_indices]\n",
    "feature_names_sorted"
   ]
  },
  {
   "cell_type": "code",
   "execution_count": 54,
   "id": "unique-wiring",
   "metadata": {},
   "outputs": [
    {
     "data": {
      "text/plain": [
       "[('marital-status=Married-civ-spouse', 0.4652860762776799),\n",
       " ('education-num', 0.23449266282782444),\n",
       " ('capital-gain', 0.21847301246417028),\n",
       " ('capital-loss', 0.04694665854355955),\n",
       " ('hours-per-week', 0.02198946883889202),\n",
       " ('age', 0.011755059371818876),\n",
       " ('education=Preschool', 0.00039439379302728744),\n",
       " ('workclass=Self-emp-not-inc', 0.00029643698326237204),\n",
       " ('workclass=Local-gov', 0.0002889281676801234),\n",
       " ('occupation=Farming-fishing', 7.730273208518886e-05),\n",
       " ('workclass=Without-pay', 0.0),\n",
       " ('workclass=State-gov', 0.0),\n",
       " ('workclass=Self-emp-inc', 0.0),\n",
       " ('workclass=Private', 0.0),\n",
       " ('workclass=Never-worked', 0.0),\n",
       " ('workclass=Federal-gov', 0.0),\n",
       " ('workclass=?', 0.0),\n",
       " ('sex=Male', 0.0),\n",
       " ('sex=Female', 0.0),\n",
       " ('relationship=Wife', 0.0),\n",
       " ('relationship=Unmarried', 0.0),\n",
       " ('relationship=Own-child', 0.0),\n",
       " ('relationship=Other-relative', 0.0),\n",
       " ('relationship=Not-in-family', 0.0),\n",
       " ('relationship=Husband', 0.0),\n",
       " ('race=White', 0.0),\n",
       " ('race=Other', 0.0),\n",
       " ('race=Black', 0.0),\n",
       " ('race=Asian-Pac-Islander', 0.0),\n",
       " ('race=Amer-Indian-Eskimo', 0.0),\n",
       " ('occupation=Transport-moving', 0.0),\n",
       " ('occupation=Tech-support', 0.0),\n",
       " ('occupation=Sales', 0.0),\n",
       " ('occupation=Protective-serv', 0.0),\n",
       " ('occupation=Prof-specialty', 0.0),\n",
       " ('occupation=Priv-house-serv', 0.0),\n",
       " ('occupation=Other-service', 0.0),\n",
       " ('occupation=Machine-op-inspct', 0.0),\n",
       " ('occupation=Handlers-cleaners', 0.0),\n",
       " ('occupation=Exec-managerial', 0.0),\n",
       " ('occupation=Craft-repair', 0.0),\n",
       " ('occupation=Armed-Forces', 0.0),\n",
       " ('occupation=Adm-clerical', 0.0),\n",
       " ('occupation=?', 0.0),\n",
       " ('native-country=Yugoslavia', 0.0),\n",
       " ('native-country=Vietnam', 0.0),\n",
       " ('native-country=United-States', 0.0),\n",
       " ('native-country=Trinadad&Tobago', 0.0),\n",
       " ('native-country=Thailand', 0.0),\n",
       " ('native-country=Taiwan', 0.0),\n",
       " ('native-country=South', 0.0),\n",
       " ('native-country=Scotland', 0.0),\n",
       " ('native-country=Puerto-Rico', 0.0),\n",
       " ('native-country=Portugal', 0.0),\n",
       " ('native-country=Poland', 0.0),\n",
       " ('native-country=Philippines', 0.0),\n",
       " ('native-country=Peru', 0.0),\n",
       " ('native-country=Outlying-US(Guam-USVI-etc)', 0.0),\n",
       " ('native-country=Nicaragua', 0.0),\n",
       " ('native-country=Mexico', 0.0),\n",
       " ('native-country=Laos', 0.0),\n",
       " ('native-country=Japan', 0.0),\n",
       " ('native-country=Jamaica', 0.0),\n",
       " ('native-country=Italy', 0.0),\n",
       " ('native-country=Ireland', 0.0),\n",
       " ('native-country=Iran', 0.0),\n",
       " ('native-country=India', 0.0),\n",
       " ('native-country=Hungary', 0.0),\n",
       " ('native-country=Hong', 0.0),\n",
       " ('native-country=Honduras', 0.0),\n",
       " ('native-country=Holand-Netherlands', 0.0),\n",
       " ('native-country=Haiti', 0.0),\n",
       " ('native-country=Guatemala', 0.0),\n",
       " ('native-country=Greece', 0.0),\n",
       " ('native-country=Germany', 0.0),\n",
       " ('native-country=France', 0.0),\n",
       " ('native-country=England', 0.0),\n",
       " ('native-country=El-Salvador', 0.0),\n",
       " ('native-country=Ecuador', 0.0),\n",
       " ('native-country=Dominican-Republic', 0.0),\n",
       " ('native-country=Cuba', 0.0),\n",
       " ('native-country=Columbia', 0.0),\n",
       " ('native-country=China', 0.0),\n",
       " ('native-country=Canada', 0.0),\n",
       " ('native-country=Cambodia', 0.0),\n",
       " ('native-country=?', 0.0),\n",
       " ('marital-status=Widowed', 0.0),\n",
       " ('marital-status=Separated', 0.0),\n",
       " ('marital-status=Never-married', 0.0),\n",
       " ('marital-status=Married-spouse-absent', 0.0),\n",
       " ('marital-status=Married-AF-spouse', 0.0),\n",
       " ('marital-status=Divorced', 0.0),\n",
       " ('education=Some-college', 0.0),\n",
       " ('education=Prof-school', 0.0),\n",
       " ('education=Masters', 0.0),\n",
       " ('education=HS-grad', 0.0),\n",
       " ('education=Doctorate', 0.0),\n",
       " ('education=Bachelors', 0.0),\n",
       " ('education=Assoc-voc', 0.0),\n",
       " ('education=Assoc-acdm', 0.0),\n",
       " ('education=9th', 0.0),\n",
       " ('education=7th-8th', 0.0),\n",
       " ('education=5th-6th', 0.0),\n",
       " ('education=1st-4th', 0.0),\n",
       " ('education=12th', 0.0),\n",
       " ('education=11th', 0.0),\n",
       " ('education=10th', 0.0)]"
      ]
     },
     "execution_count": 54,
     "metadata": {},
     "output_type": "execute_result"
    }
   ],
   "source": [
    "feature_names_and_values_sorted = list(zip(feature_names_sorted, sorted_values))\n",
    "feature_names_and_values_sorted"
   ]
  },
  {
   "cell_type": "markdown",
   "id": "smaller-guide",
   "metadata": {},
   "source": [
    "### Inspect the first few of these features, and try to reason about why you got this result"
   ]
  },
  {
   "cell_type": "markdown",
   "id": "powerful-african",
   "metadata": {},
   "source": [
    "It makes sense that some features are more important for predicting whether a person makes above or below 50k dollars in yearly salary. The feature married makes sense because usually a person marries when they are financially stable or independant. Similarily the feature age also makes sense, because an older person has more time to make a career than a younger person and this affects the income of that person. The level of education also makes sense since a person with a higher level of education also can land a higher paying job such as doctor or engineer. Hours per week also makes sense, how much time you spend working is one of the factors for how much you earn. Of course it also depends on your hourly salary."
   ]
  },
  {
   "cell_type": "markdown",
   "id": "private-circulation",
   "metadata": {},
   "source": [
    "### Feature Importance score for Random Forest with 100 Decision Trees and max_depth of 5"
   ]
  },
  {
   "cell_type": "code",
   "execution_count": 37,
   "id": "committed-delhi",
   "metadata": {},
   "outputs": [
    {
     "data": {
      "text/plain": [
       "array([4.93223309e-02, 1.49617939e-01, 2.34276316e-02, 9.81422413e-02,\n",
       "       9.25505399e-04, 8.21491139e-04, 4.17597347e-05, 1.98532625e-06,\n",
       "       2.77560014e-04, 7.68400826e-04, 1.47219017e-04, 5.56928310e-05,\n",
       "       3.13152939e-04, 3.02205589e-02, 4.20224656e-03, 1.22638795e-02,\n",
       "       1.38001829e-02, 1.37408805e-05, 8.55259634e-03, 5.59807305e-04,\n",
       "       2.58869076e-02, 6.75488162e-03, 1.18113190e-04, 1.73222230e-01,\n",
       "       4.63776336e-05, 4.51991504e-02, 1.19355565e-03, 4.94693221e-04,\n",
       "       5.01885820e-05, 4.22642086e-06, 4.58792805e-05, 4.97338220e-05,\n",
       "       0.00000000e+00, 1.88068236e-05, 8.02894449e-06, 2.90550837e-05,\n",
       "       1.06221087e-05, 3.73317870e-05, 4.26921712e-05, 2.98473468e-05,\n",
       "       3.03050079e-05, 1.33679509e-06, 0.00000000e+00, 0.00000000e+00,\n",
       "       3.61864089e-06, 3.71277790e-05, 3.83730166e-06, 3.14475487e-05,\n",
       "       1.78686187e-05, 2.79288452e-05, 2.36542570e-05, 3.39712425e-06,\n",
       "       6.14460252e-05, 7.43654119e-07, 8.24661797e-04, 3.74707318e-06,\n",
       "       0.00000000e+00, 0.00000000e+00, 7.29349485e-05, 0.00000000e+00,\n",
       "       1.26980467e-05, 1.13586431e-05, 1.83673117e-05, 2.88039096e-05,\n",
       "       1.24668882e-05, 6.13342358e-06, 1.87405636e-08, 2.99379419e-04,\n",
       "       2.33520226e-05, 3.30872017e-05, 5.52149128e-04, 6.50288752e-04,\n",
       "       6.25859251e-06, 8.26124492e-04, 2.27058940e-02, 2.49688815e-03,\n",
       "       8.31945643e-04, 1.19407449e-03, 8.02171149e-03, 4.89222021e-05,\n",
       "       1.66517557e-02, 7.72859753e-06, 2.08903017e-04, 1.48521306e-04,\n",
       "       2.65273638e-04, 4.00868211e-05, 7.20877751e-05, 1.04302439e-03,\n",
       "       5.13530716e-05, 5.72853223e-04, 1.64630870e-01, 2.05086077e-02,\n",
       "       7.56591131e-04, 3.59254523e-02, 6.64345520e-03, 1.56392614e-02,\n",
       "       1.69763497e-02, 2.49198830e-02, 6.51196815e-04, 8.40587417e-04,\n",
       "       3.24621140e-04, 0.00000000e+00, 4.66991267e-04, 5.39058572e-03,\n",
       "       1.51963542e-03, 1.02064069e-04, 3.89226840e-08])"
      ]
     },
     "execution_count": 37,
     "metadata": {},
     "output_type": "execute_result"
    }
   ],
   "source": [
    "#default ensemble size is 100\n",
    "rfc = RandomForestClassifier(max_depth=5, n_jobs = -1)\n",
    "rfc.fit(adult_train_encoded, adult_train_y)\n",
    "rfc.feature_importances_"
   ]
  },
  {
   "cell_type": "code",
   "execution_count": 38,
   "id": "eleven-requirement",
   "metadata": {},
   "outputs": [
    {
     "name": "stdout",
     "output_type": "stream",
     "text": [
      "[(0.17322222978853358, 23), (0.16463086983318978, 90), (0.14961793862006, 1), (0.09814224127504771, 3), (0.04932233090879571, 0), (0.04519915037277624, 25), (0.03592545230815607, 93), (0.030220558948410303, 13), (0.025886907564035482, 20), (0.024919882956673384, 97), (0.023427631643995066, 2), (0.022705894020429575, 74), (0.020508607668173827, 91), (0.01697634971531078, 96), (0.016651755717411846, 80), (0.015639261392773978, 95), (0.013800182902366441, 16), (0.012263879456861256, 15), (0.008552596341141964, 18), (0.00802171149421302, 78), (0.0067548816215375375, 21), (0.006643455202821682, 94), (0.0053905857150023506, 103), (0.004202246563559082, 14), (0.002496888148106009, 75), (0.0015196354207254882, 104), (0.001194074492165444, 77), (0.0011935556473060885, 26), (0.0010430243923237582, 87), (0.0009255053988593608, 4), (0.0008405874168658539, 99), (0.0008319456433733972, 76), (0.0008261244917492766, 73), (0.0008246617966028612, 54), (0.0008214911386574587, 5), (0.0007684008257188257, 9), (0.0007565911311776888, 92), (0.0006511968154272209, 98), (0.0006502887524638933, 71), (0.0005728532226404722, 89), (0.0005598073054450326, 19), (0.0005521491277689557, 70), (0.0004946932206378844, 27), (0.00046699126661002647, 102), (0.00032462113974130526, 100), (0.000313152938649517, 12), (0.0002993794186821236, 67), (0.0002775600143553616, 8), (0.0002652736379731473, 84), (0.00020890301661705504, 82), (0.00014852130577094067, 83), (0.00014721901692314136, 10), (0.00011811318987758551, 22), (0.00010206406875500363, 105), (7.293494852874898e-05, 58), (7.208777509375063e-05, 86), (6.144602517765516e-05, 52), (5.569283099645938e-05, 11), (5.135307158505955e-05, 88), (5.018858202718222e-05, 28), (4.9733821988301874e-05, 31), (4.89222021246101e-05, 79), (4.637763362597661e-05, 24), (4.587928050437517e-05, 30), (4.269217121873706e-05, 38), (4.175973474536986e-05, 6), (4.0086821112867684e-05, 85), (3.733178703473548e-05, 37), (3.7127778962883934e-05, 45), (3.308720173115013e-05, 69), (3.144754867700081e-05, 47), (3.0305007857917623e-05, 40), (2.9847346822155553e-05, 39), (2.9055083731348558e-05, 35), (2.8803909608916446e-05, 63), (2.792884515570787e-05, 49), (2.365425702184784e-05, 50), (2.3352022563548028e-05, 68), (1.8806823612178457e-05, 33), (1.8367311705647054e-05, 62), (1.7868618651795966e-05, 48), (1.3740880540079396e-05, 17), (1.2698046713576545e-05, 60), (1.2466888182136004e-05, 64), (1.1358643132647864e-05, 61), (1.0622108657348926e-05, 36), (8.02894449183478e-06, 34), (7.728597531645817e-06, 81), (6.2585925117026275e-06, 72), (6.133423575343273e-06, 65), (4.226420860606367e-06, 29), (3.837301664193984e-06, 46), (3.747073182475432e-06, 55), (3.6186408867879446e-06, 44), (3.3971242466758392e-06, 51), (1.9853262547217534e-06, 7), (1.336795088159195e-06, 41), (7.436541194610439e-07, 53), (3.8922684038982953e-08, 106), (1.8740563622651317e-08, 66), (0.0, 101), (0.0, 59), (0.0, 57), (0.0, 56), (0.0, 43), (0.0, 42), (0.0, 32)]\n"
     ]
    }
   ],
   "source": [
    "feature_importances = sorted(list(zip(rfc.feature_importances_, indices)), reverse=True)\n",
    "print(feature_importances)"
   ]
  },
  {
   "cell_type": "code",
   "execution_count": 39,
   "id": "biological-fusion",
   "metadata": {},
   "outputs": [],
   "source": [
    "sorted_values = [t[0] for t in feature_importances]\n",
    "sorted_indices = [t[1] for t in feature_importances]"
   ]
  },
  {
   "cell_type": "code",
   "execution_count": 40,
   "id": "southwest-sacramento",
   "metadata": {},
   "outputs": [
    {
     "data": {
      "text/plain": [
       "[('marital-status=Married-civ-spouse', 0.17322222978853358),\n",
       " ('relationship=Husband', 0.16463086983318978),\n",
       " ('capital-gain', 0.14961793862006),\n",
       " ('education-num', 0.09814224127504771),\n",
       " ('age', 0.04932233090879571),\n",
       " ('marital-status=Never-married', 0.04519915037277624),\n",
       " ('relationship=Own-child', 0.03592545230815607),\n",
       " ('education=Bachelors', 0.030220558948410303),\n",
       " ('hours-per-week', 0.025886907564035482),\n",
       " ('sex=Male', 0.024919882956673384),\n",
       " ('capital-loss', 0.023427631643995066),\n",
       " ('occupation=Exec-managerial', 0.022705894020429575),\n",
       " ('relationship=Not-in-family', 0.020508607668173827),\n",
       " ('sex=Female', 0.01697634971531078),\n",
       " ('occupation=Prof-specialty', 0.016651755717411846),\n",
       " ('relationship=Wife', 0.015639261392773978),\n",
       " ('education=Masters', 0.013800182902366441),\n",
       " ('education=HS-grad', 0.012263879456861256),\n",
       " ('education=Prof-school', 0.008552596341141964),\n",
       " ('occupation=Other-service', 0.00802171149421302),\n",
       " ('marital-status=Divorced', 0.0067548816215375375),\n",
       " ('relationship=Unmarried', 0.006643455202821682),\n",
       " ('workclass=Self-emp-inc', 0.0053905857150023506),\n",
       " ('education=Doctorate', 0.004202246563559082),\n",
       " ('occupation=Farming-fishing', 0.002496888148106009),\n",
       " ('workclass=Self-emp-not-inc', 0.0015196354207254882),\n",
       " ('occupation=Machine-op-inspct', 0.001194074492165444),\n",
       " ('marital-status=Separated', 0.0011935556473060885),\n",
       " ('race=Black', 0.0010430243923237582),\n",
       " ('education=10th', 0.0009255053988593608),\n",
       " ('workclass=Federal-gov', 0.0008405874168658539),\n",
       " ('occupation=Handlers-cleaners', 0.0008319456433733972),\n",
       " ('occupation=Craft-repair', 0.0008261244917492766),\n",
       " ('native-country=Mexico', 0.0008246617966028612),\n",
       " ('education=11th', 0.0008214911386574587),\n",
       " ('education=7th-8th', 0.0007684008257188257),\n",
       " ('relationship=Other-relative', 0.0007565911311776888),\n",
       " ('workclass=?', 0.0006511968154272209),\n",
       " ('occupation=Adm-clerical', 0.0006502887524638933),\n",
       " ('race=White', 0.0005728532226404722),\n",
       " ('education=Some-college', 0.0005598073054450326),\n",
       " ('occupation=?', 0.0005521491277689557),\n",
       " ('marital-status=Widowed', 0.0004946932206378844),\n",
       " ('workclass=Private', 0.00046699126661002647),\n",
       " ('workclass=Local-gov', 0.00032462113974130526),\n",
       " ('education=Assoc-voc', 0.000313152938649517),\n",
       " ('native-country=United-States', 0.0002993794186821236),\n",
       " ('education=5th-6th', 0.0002775600143553616),\n",
       " ('occupation=Transport-moving', 0.0002652736379731473),\n",
       " ('occupation=Sales', 0.00020890301661705504),\n",
       " ('occupation=Tech-support', 0.00014852130577094067),\n",
       " ('education=9th', 0.00014721901692314136),\n",
       " ('marital-status=Married-AF-spouse', 0.00011811318987758551),\n",
       " ('workclass=State-gov', 0.00010206406875500363),\n",
       " ('native-country=Philippines', 7.293494852874898e-05),\n",
       " ('race=Asian-Pac-Islander', 7.208777509375063e-05),\n",
       " ('native-country=Japan', 6.144602517765516e-05),\n",
       " ('education=Assoc-acdm', 5.569283099645938e-05),\n",
       " ('race=Other', 5.135307158505955e-05),\n",
       " ('native-country=?', 5.018858202718222e-05),\n",
       " ('native-country=China', 4.9733821988301874e-05),\n",
       " ('occupation=Priv-house-serv', 4.89222021246101e-05),\n",
       " ('marital-status=Married-spouse-absent', 4.637763362597661e-05),\n",
       " ('native-country=Canada', 4.587928050437517e-05),\n",
       " ('native-country=France', 4.269217121873706e-05),\n",
       " ('education=12th', 4.175973474536986e-05),\n",
       " ('race=Amer-Indian-Eskimo', 4.0086821112867684e-05),\n",
       " ('native-country=England', 3.733178703473548e-05),\n",
       " ('native-country=Hong', 3.7127778962883934e-05),\n",
       " ('native-country=Yugoslavia', 3.308720173115013e-05),\n",
       " ('native-country=India', 3.144754867700081e-05),\n",
       " ('native-country=Greece', 3.0305007857917623e-05),\n",
       " ('native-country=Germany', 2.9847346822155553e-05),\n",
       " ('native-country=Ecuador', 2.9055083731348558e-05),\n",
       " ('native-country=South', 2.8803909608916446e-05),\n",
       " ('native-country=Ireland', 2.792884515570787e-05),\n",
       " ('native-country=Italy', 2.365425702184784e-05),\n",
       " ('native-country=Vietnam', 2.3352022563548028e-05),\n",
       " ('native-country=Cuba', 1.8806823612178457e-05),\n",
       " ('native-country=Scotland', 1.8367311705647054e-05),\n",
       " ('native-country=Iran', 1.7868618651795966e-05),\n",
       " ('education=Preschool', 1.3740880540079396e-05),\n",
       " ('native-country=Portugal', 1.2698046713576545e-05),\n",
       " ('native-country=Taiwan', 1.2466888182136004e-05),\n",
       " ('native-country=Puerto-Rico', 1.1358643132647864e-05),\n",
       " ('native-country=El-Salvador', 1.0622108657348926e-05),\n",
       " ('native-country=Dominican-Republic', 8.02894449183478e-06),\n",
       " ('occupation=Protective-serv', 7.728597531645817e-06),\n",
       " ('occupation=Armed-Forces', 6.2585925117026275e-06),\n",
       " ('native-country=Thailand', 6.133423575343273e-06),\n",
       " ('native-country=Cambodia', 4.226420860606367e-06),\n",
       " ('native-country=Hungary', 3.837301664193984e-06),\n",
       " ('native-country=Nicaragua', 3.747073182475432e-06),\n",
       " ('native-country=Honduras', 3.6186408867879446e-06),\n",
       " ('native-country=Jamaica', 3.3971242466758392e-06),\n",
       " ('education=1st-4th', 1.9853262547217534e-06),\n",
       " ('native-country=Guatemala', 1.336795088159195e-06),\n",
       " ('native-country=Laos', 7.436541194610439e-07),\n",
       " ('workclass=Without-pay', 3.8922684038982953e-08),\n",
       " ('native-country=Trinadad&Tobago', 1.8740563622651317e-08),\n",
       " ('workclass=Never-worked', 0.0),\n",
       " ('native-country=Poland', 0.0),\n",
       " ('native-country=Peru', 0.0),\n",
       " ('native-country=Outlying-US(Guam-USVI-etc)', 0.0),\n",
       " ('native-country=Holand-Netherlands', 0.0),\n",
       " ('native-country=Haiti', 0.0),\n",
       " ('native-country=Columbia', 0.0)]"
      ]
     },
     "execution_count": 40,
     "metadata": {},
     "output_type": "execute_result"
    }
   ],
   "source": [
    "sorted_feature_names = [dv.feature_names_[i] for i in sorted_indices]\n",
    "sorted_feature_names_and_values = list(zip(sorted_feature_names,sorted_values))\n",
    "sorted_feature_names_and_values"
   ]
  },
  {
   "cell_type": "markdown",
   "id": "meaningful-public",
   "metadata": {},
   "source": [
    "### Inspect the first few of these features, and try to reason about why you got this result"
   ]
  },
  {
   "cell_type": "markdown",
   "id": "grand-bloom",
   "metadata": {},
   "source": [
    "When using a random forest, we can see that less features are given importance score of 0, so the importance score is distributed to more features. This makes sense because the result depends not so much on the predictions of only 1 tree, that might not consider some features important, but on all the trees in the random forest(100). \n",
    "We see that one of the most important features is still whether someone has married or not(sometimes it is the most important feature but it varies between running times). However, the importance score of this feature in the random forest is almost half as small as it is in the decision tree. In the decision tree, this feature was given an importance score of 0.46."
   ]
  },
  {
   "cell_type": "markdown",
   "id": "arctic-salem",
   "metadata": {},
   "source": [
    "### For your report, please also mention an alternative way to compute some sort of importance score of individual features. (You don't need to implement it.) Here, you can either use your common sense, or optionally read the discussion by Parr et al. (2018) that gives some criticism of decision tree-based feature importance scores and discusses some alternatives."
   ]
  },
  {
   "cell_type": "markdown",
   "id": "cross-pendant",
   "metadata": {},
   "source": [
    "There are 2 alternatives to the default feature importance score for decision trees in sci-kit learn. These are permutation\n",
    "importance and drop-column importance.\n",
    "Permutation importance works by calculating the test set accuracy of a model. It then randomly shuffles all of the column values\n",
    "for a particular feature and recalculates the test set accuracy. The feature importance score is calculated as the difference\n",
    "between the initial accuracy of the model on the testing set and the accuracy of the model on the testing set after the values\n",
    "for that particular feature have been shuffled. If the difference is large, it means that shuffling the values of that feature\n",
    "negatively impacted the models accuracy on the testing set, and thus that feature is important in predicting the outcome.\n",
    "Similarily, if the difference is small, it means that after shuffling the column values for that particular feature, it did not \n",
    "affect the accuracy of the model on the test set that much, thus the feature is not as important.\n",
    "\n",
    "Drop-column importance scores for features work similarily, except that instead of shuffling the values for a feature, they \n",
    "drop that feature from the dataset completly. After the feature has been dropped from the dataset, it retrains the model without\n",
    "the missing feature, then recalculates the models accuracy score on the testing set. If the models accuracy has dropped a lot,\n",
    "it means that the feature was important. If not, then it means that the model performs fine even without the feature, so it is \n",
    "less important.[1]\n",
    "\n",
    "[1] https://explained.ai/rf-importance/\n",
    "\n"
   ]
  }
 ],
 "metadata": {
  "kernelspec": {
   "display_name": "Python 3",
   "language": "python",
   "name": "python3"
  },
  "language_info": {
   "codemirror_mode": {
    "name": "ipython",
    "version": 3
   },
   "file_extension": ".py",
   "mimetype": "text/x-python",
   "name": "python",
   "nbconvert_exporter": "python",
   "pygments_lexer": "ipython3",
   "version": "3.9.2"
  }
 },
 "nbformat": 4,
 "nbformat_minor": 5
}
